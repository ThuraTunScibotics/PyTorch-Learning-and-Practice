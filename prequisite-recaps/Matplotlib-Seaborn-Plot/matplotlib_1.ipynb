{
 "cells": [
  {
   "cell_type": "markdown",
   "id": "c142d620",
   "metadata": {},
   "source": [
    "### Univariate visualizations: bar charts, and histograms\n",
    "- Bar charts are for qualitative variables. In general, bar chart maps categories to numbers.\n",
    "- A pie chart is used to depict relative frequencies for levels of a categorical variable. A pie chart is preferably used when the number of categories is less, and you'd like to see the proportion of each category.\n",
    "- Histograms are for quantitative variables. A histogram splits the (tabular) data into evenly sized intervals and displays the count of rows in each interval with bars. The \"category\" here is a range of values."
   ]
  },
  {
   "cell_type": "markdown",
   "id": "d31c9222",
   "metadata": {},
   "source": [
    "You should be comfortable with reshaping your data or perform transformations to split or combine features in your data, resulting in new data columns. These operations collectively are called **data-wrangling**."
   ]
  },
  {
   "cell_type": "code",
   "execution_count": null,
   "id": "7f09ab49",
   "metadata": {},
   "outputs": [],
   "source": []
  }
 ],
 "metadata": {
  "kernelspec": {
   "display_name": "Python 3 (ipykernel)",
   "language": "python",
   "name": "python3"
  },
  "language_info": {
   "codemirror_mode": {
    "name": "ipython",
    "version": 3
   },
   "file_extension": ".py",
   "mimetype": "text/x-python",
   "name": "python",
   "nbconvert_exporter": "python",
   "pygments_lexer": "ipython3",
   "version": "3.10.4"
  }
 },
 "nbformat": 4,
 "nbformat_minor": 5
}
