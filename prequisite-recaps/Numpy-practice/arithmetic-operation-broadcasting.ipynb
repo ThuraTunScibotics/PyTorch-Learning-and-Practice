{
 "cells": [
  {
   "cell_type": "markdown",
   "id": "bdf89961",
   "metadata": {},
   "source": [
    "## Arithmetic Operation & Broadcasting"
   ]
  },
  {
   "cell_type": "markdown",
   "id": "be7cd927",
   "metadata": {},
   "source": [
    "###  Element wise arithmetic operation on 1D array"
   ]
  },
  {
   "cell_type": "code",
   "execution_count": 2,
   "id": "eb50f778",
   "metadata": {},
   "outputs": [],
   "source": [
    "import numpy as np"
   ]
  },
  {
   "cell_type": "code",
   "execution_count": 5,
   "id": "fbdfeaa3",
   "metadata": {},
   "outputs": [
    {
     "name": "stdout",
     "output_type": "stream",
     "text": [
      "x =  [1 2 3 4]\n",
      "\n",
      "y =  [5.5 6.5 7.5 8.5]\n"
     ]
    }
   ],
   "source": [
    "# We create two rank 1 ndarrays\n",
    "x = np.array([1,2,3,4])\n",
    "y = np.array([5.5,6.5,7.5,8.5])\n",
    "\n",
    "\n",
    "print('x = ', x)\n",
    "print()\n",
    "print('y = ', y)"
   ]
  },
  {
   "cell_type": "code",
   "execution_count": 6,
   "id": "92fb4d17",
   "metadata": {},
   "outputs": [
    {
     "name": "stdout",
     "output_type": "stream",
     "text": [
      "x + y =  [ 6.5  8.5 10.5 12.5]\n",
      "add(x,y) =  [ 6.5  8.5 10.5 12.5]\n",
      "\n",
      "x - y =  [-4.5 -4.5 -4.5 -4.5]\n",
      "subtract(x,y) =  [-4.5 -4.5 -4.5 -4.5]\n",
      "\n",
      "x * y =  [ 5.5 13.  22.5 34. ]\n",
      "multiply(x,y) =  [ 5.5 13.  22.5 34. ]\n",
      "\n",
      "x / y =  [0.18181818 0.30769231 0.4        0.47058824]\n",
      "divide(x,y) =  [0.18181818 0.30769231 0.4        0.47058824]\n"
     ]
    }
   ],
   "source": [
    "# We perfrom basic element-wise operations using arithmetic symbols and functions\n",
    "print('x + y = ', x + y)\n",
    "print('add(x,y) = ', np.add(x,y))\n",
    "print()\n",
    "print('x - y = ', x - y)\n",
    "print('subtract(x,y) = ', np.subtract(x,y))\n",
    "print()\n",
    "print('x * y = ', x * y)\n",
    "print('multiply(x,y) = ', np.multiply(x,y))\n",
    "print()\n",
    "print('x / y = ', x / y)\n",
    "print('divide(x,y) = ', np.divide(x,y))"
   ]
  },
  {
   "cell_type": "markdown",
   "id": "88e57ab7",
   "metadata": {},
   "source": [
    "### Element wise arithmetic operation on 2D array\n",
    "2D array must have to be the same shape or broadcastable."
   ]
  },
  {
   "cell_type": "code",
   "execution_count": 7,
   "id": "1678a93e",
   "metadata": {},
   "outputs": [
    {
     "name": "stdout",
     "output_type": "stream",
     "text": [
      "X = \n",
      " [[1 2]\n",
      " [3 4]]\n",
      "\n",
      "Y = \n",
      " [[5.5 6.5]\n",
      " [7.5 8.5]]\n"
     ]
    }
   ],
   "source": [
    "# We create two rank 2 ndarrays\n",
    "X = np.array([1,2,3,4]).reshape(2,2)\n",
    "Y = np.array([5.5,6.5,7.5,8.5]).reshape(2,2)\n",
    "\n",
    "print('X = \\n', X)\n",
    "print()\n",
    "print('Y = \\n', Y)"
   ]
  },
  {
   "cell_type": "code",
   "execution_count": 8,
   "id": "5ed15d9e",
   "metadata": {},
   "outputs": [
    {
     "name": "stdout",
     "output_type": "stream",
     "text": [
      "X + Y = \n",
      " [[ 6.5  8.5]\n",
      " [10.5 12.5]]\n",
      "\n",
      "add(X,Y) = \n",
      " [[ 6.5  8.5]\n",
      " [10.5 12.5]]\n",
      "\n",
      "X - Y = \n",
      " [[-4.5 -4.5]\n",
      " [-4.5 -4.5]]\n",
      "\n",
      "subtract(X,Y) = \n",
      " [[-4.5 -4.5]\n",
      " [-4.5 -4.5]]\n",
      "\n",
      "X * Y = \n",
      " [[ 5.5 13. ]\n",
      " [22.5 34. ]]\n",
      "\n",
      "multiply(X,Y) = \n",
      " [[ 5.5 13. ]\n",
      " [22.5 34. ]]\n",
      "\n",
      "X / Y = \n",
      " [[0.18181818 0.30769231]\n",
      " [0.4        0.47058824]]\n",
      "\n",
      "divide(X,Y) = \n",
      " [[0.18181818 0.30769231]\n",
      " [0.4        0.47058824]]\n"
     ]
    }
   ],
   "source": [
    "# We perform basic element-wise operations using arithmetic symbols and functions\n",
    "print('X + Y = \\n', X + Y)\n",
    "print()\n",
    "print('add(X,Y) = \\n', np.add(X,Y))\n",
    "print()\n",
    "print('X - Y = \\n', X - Y)\n",
    "print()\n",
    "print('subtract(X,Y) = \\n', np.subtract(X,Y))\n",
    "print()\n",
    "print('X * Y = \\n', X * Y)\n",
    "print()\n",
    "print('multiply(X,Y) = \\n', np.multiply(X,Y))\n",
    "print()\n",
    "print('X / Y = \\n', X / Y)\n",
    "print()\n",
    "print('divide(X,Y) = \\n', np.divide(X,Y))"
   ]
  },
  {
   "cell_type": "markdown",
   "id": "21dae9ab",
   "metadata": {},
   "source": [
    "### Additional mathematical function"
   ]
  },
  {
   "cell_type": "code",
   "execution_count": 9,
   "id": "41f857ef",
   "metadata": {},
   "outputs": [
    {
     "name": "stdout",
     "output_type": "stream",
     "text": [
      "[1 2 3 4]\n"
     ]
    }
   ],
   "source": [
    "x = np.array([1,2,3,4])\n",
    "\n",
    "print(x)"
   ]
  },
  {
   "cell_type": "code",
   "execution_count": 10,
   "id": "f46c904d",
   "metadata": {},
   "outputs": [
    {
     "name": "stdout",
     "output_type": "stream",
     "text": [
      "EXP(x) = [ 2.71828183  7.3890561  20.08553692 54.59815003]\n",
      "\n",
      "SQRT(x) = [1.         1.41421356 1.73205081 2.        ]\n",
      "\n",
      "POW(x,2) = [ 1  4  9 16]\n"
     ]
    }
   ],
   "source": [
    "# We apply different mathematical functions to all elements of x\n",
    "print('EXP(x) =', np.exp(x))\n",
    "print()\n",
    "print('SQRT(x) =',np.sqrt(x))\n",
    "print()\n",
    "print('POW(x,2) =',np.power(x,2))"
   ]
  },
  {
   "cell_type": "markdown",
   "id": "47e3936c",
   "metadata": {},
   "source": [
    "### Statistical Functions\n",
    "Note - Most of the statistical operations can be done using either a function or an equivalent method. For example, both numpy.mean function and numpy.ndarray.mean method will return the arithmetic mean of the array elements along the given axis."
   ]
  },
  {
   "cell_type": "code",
   "execution_count": 11,
   "id": "021d54c9",
   "metadata": {},
   "outputs": [
    {
     "name": "stdout",
     "output_type": "stream",
     "text": [
      "[[1 2]\n",
      " [3 4]]\n"
     ]
    }
   ],
   "source": [
    "# We create a 2 x 2 ndarray\n",
    "X = np.array([[1,2], [3,4]])\n",
    "\n",
    "print(X)"
   ]
  },
  {
   "cell_type": "code",
   "execution_count": 19,
   "id": "0d466b87",
   "metadata": {},
   "outputs": [
    {
     "name": "stdout",
     "output_type": "stream",
     "text": [
      "Average of all elements in X: 2.5\n",
      "Average of all elements in the columns of X: [2. 3.]\n",
      "Average of all elements in the rows of X: [1.5 3.5]\n",
      "\n",
      "Sum of all elements in X: 10\n",
      "Sum of all elements in the columns of X: [4 6]\n",
      "Sum of all elements in the rows of X: [3 7]\n",
      "\n",
      "Standard Deviation of all elements in X: 1.118033988749895\n",
      "Standard Deviation of all elements in the columns of X: [1. 1.]\n",
      "Standard Deviation of all elements in the rows of X: [0.5 0.5]\n",
      "\n",
      "Median of all elements in X: 2.5\n",
      "Median of all elements in the columns of X: [2. 3.]\n",
      "Median of all elements in the rows of X: [1.5 3.5]\n",
      "\n",
      "Maximum value of all elements in X: 4\n",
      "Maximum value of all elements in the columns of X: [3 4]\n",
      "Maximum value of all elements in the rows of X: [2 4]\n",
      "\n",
      "Minimum value of all elements in X: 1\n",
      "Minimum value of all elements in the columns of X: [1 2]\n",
      "Minimum value of all elements in the rows of X: [1 3]\n"
     ]
    }
   ],
   "source": [
    "print('Average of all elements in X:', X.mean())\n",
    "print('Average of all elements in the columns of X:', X.mean(axis=0))\n",
    "print('Average of all elements in the rows of X:', X.mean(axis=1))\n",
    "print()\n",
    "print('Sum of all elements in X:', X.sum())\n",
    "print('Sum of all elements in the columns of X:', X.sum(axis=0))\n",
    "print('Sum of all elements in the rows of X:', X.sum(axis=1))\n",
    "print()\n",
    "print('Standard Deviation of all elements in X:', X.std())\n",
    "print('Standard Deviation of all elements in the columns of X:', X.std(axis=0))\n",
    "print('Standard Deviation of all elements in the rows of X:', X.std(axis=1))\n",
    "print()\n",
    "print('Median of all elements in X:', np.median(X))\n",
    "print('Median of all elements in the columns of X:', np.median(X,axis=0))\n",
    "print('Median of all elements in the rows of X:', np.median(X,axis=1))\n",
    "print()\n",
    "print('Maximum value of all elements in X:', X.max())\n",
    "print('Maximum value of all elements in the columns of X:', X.max(axis=0))\n",
    "print('Maximum value of all elements in the rows of X:', X.max(axis=1))\n",
    "print()\n",
    "print('Minimum value of all elements in X:', X.min())\n",
    "print('Minimum value of all elements in the columns of X:', X.min(axis=0))\n",
    "print('Minimum value of all elements in the rows of X:', X.min(axis=1))"
   ]
  },
  {
   "cell_type": "markdown",
   "id": "48648f29",
   "metadata": {},
   "source": [
    "### Change value of all elements of an array\n",
    "In the example, NumPy is working behind the scenes to broadcast 3 along the ndarray so that they have the same shape. This allows us to add 3 to each element of X with just one line of code."
   ]
  },
  {
   "cell_type": "code",
   "execution_count": 20,
   "id": "d7ac95db",
   "metadata": {},
   "outputs": [
    {
     "name": "stdout",
     "output_type": "stream",
     "text": [
      "[[1 2]\n",
      " [3 4]]\n"
     ]
    }
   ],
   "source": [
    "# We create a 2 x 2 ndarray\n",
    "X = np.array([[1,2], [3,4]])\n",
    "print(X)"
   ]
  },
  {
   "cell_type": "code",
   "execution_count": 22,
   "id": "1c8c54b7",
   "metadata": {},
   "outputs": [
    {
     "name": "stdout",
     "output_type": "stream",
     "text": [
      "3 * X = \n",
      " [[ 3  6]\n",
      " [ 9 12]]\n",
      "\n",
      "3 + X = \n",
      " [[4 5]\n",
      " [6 7]]\n",
      "\n",
      "X - 3 = \n",
      " [[-2 -1]\n",
      " [ 0  1]]\n",
      "\n",
      "X / 3 = \n",
      " [[0.33333333 0.66666667]\n",
      " [1.         1.33333333]]\n"
     ]
    }
   ],
   "source": [
    "print('3 * X = \\n', 3 * X)\n",
    "print()\n",
    "print('3 + X = \\n', 3 + X)\n",
    "print()\n",
    "print('X - 3 = \\n', X - 3)\n",
    "print()\n",
    "print('X / 3 = \\n', X / 3)"
   ]
  },
  {
   "cell_type": "markdown",
   "id": "c4c8773f",
   "metadata": {},
   "source": [
    "### Arithmetic operation on 2D arrays (Compatible shape) "
   ]
  },
  {
   "cell_type": "code",
   "execution_count": 23,
   "id": "d5a57116",
   "metadata": {},
   "outputs": [
    {
     "name": "stdout",
     "output_type": "stream",
     "text": [
      "x =  [1 2 3]\n",
      "\n",
      "Y = \n",
      " [[1 2 3]\n",
      " [4 5 6]\n",
      " [7 8 9]]\n",
      "\n",
      "Z = \n",
      " [[1]\n",
      " [2]\n",
      " [3]]\n",
      "\n"
     ]
    }
   ],
   "source": [
    "# We create a rank 1 ndarray\n",
    "x = np.array([1,2,3])\n",
    "\n",
    "# We create a 3 x 3 ndarray\n",
    "Y = np.array([[1,2,3],[4,5,6],[7,8,9]])\n",
    "\n",
    "# We create a 3 x 1 ndarray\n",
    "Z = np.array([1,2,3]).reshape(3,1)\n",
    "\n",
    "print('x = ', x)\n",
    "print()\n",
    "print('Y = \\n', Y)\n",
    "print()\n",
    "print('Z = \\n', Z)\n",
    "print()"
   ]
  },
  {
   "cell_type": "code",
   "execution_count": 25,
   "id": "30ae3abf",
   "metadata": {},
   "outputs": [
    {
     "data": {
      "text/plain": [
       "((3,), (3, 3), (3, 1))"
      ]
     },
     "execution_count": 25,
     "metadata": {},
     "output_type": "execute_result"
    }
   ],
   "source": [
    "x.shape, Y.shape, Z.shape"
   ]
  },
  {
   "cell_type": "code",
   "execution_count": 26,
   "id": "49a74fdb",
   "metadata": {},
   "outputs": [
    {
     "name": "stdout",
     "output_type": "stream",
     "text": [
      "x + Y = \n",
      " [[ 2  4  6]\n",
      " [ 5  7  9]\n",
      " [ 8 10 12]]\n",
      "\n",
      "Z + Y = \n",
      " [[ 2  3  4]\n",
      " [ 6  7  8]\n",
      " [10 11 12]]\n",
      "\n",
      "Y + Z = \n",
      " [[ 2  3  4]\n",
      " [ 6  7  8]\n",
      " [10 11 12]]\n"
     ]
    }
   ],
   "source": [
    "print('x + Y = \\n', x + Y)\n",
    "print()\n",
    "print('Z + Y = \\n',Z + Y)\n",
    "print()\n",
    "print('Y + Z = \\n',Y + Z)"
   ]
  },
  {
   "cell_type": "markdown",
   "id": "b0c2f397",
   "metadata": {},
   "source": [
    "As before, NumPy is able to add 1 x 3 and 3 x 1 ndarrays to 3 x 3 ndarrays by broadcasting the smaller ndarrays along the big ndarray so that they have compatible shapes. In general, NumPy can do this provided that the smaller ndarray, such as the 1 x 3 ndarray in our example, can be expanded to the shape of the larger ndarray in such a way that the resulting broadcast is unambiguous."
   ]
  },
  {
   "cell_type": "code",
   "execution_count": null,
   "id": "74b23491",
   "metadata": {},
   "outputs": [],
   "source": []
  }
 ],
 "metadata": {
  "kernelspec": {
   "display_name": "Python 3 (ipykernel)",
   "language": "python",
   "name": "python3"
  },
  "language_info": {
   "codemirror_mode": {
    "name": "ipython",
    "version": 3
   },
   "file_extension": ".py",
   "mimetype": "text/x-python",
   "name": "python",
   "nbconvert_exporter": "python",
   "pygments_lexer": "ipython3",
   "version": "3.10.4"
  }
 },
 "nbformat": 4,
 "nbformat_minor": 5
}
