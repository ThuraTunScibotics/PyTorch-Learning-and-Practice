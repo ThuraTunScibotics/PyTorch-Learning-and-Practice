{
 "cells": [
  {
   "cell_type": "code",
   "execution_count": 1,
   "id": "585d9fa7",
   "metadata": {},
   "outputs": [],
   "source": [
    "import numpy as np"
   ]
  },
  {
   "cell_type": "markdown",
   "id": "eee73498",
   "metadata": {},
   "source": [
    "### Boolean Indexing"
   ]
  },
  {
   "cell_type": "code",
   "execution_count": 3,
   "id": "2fa1f06f",
   "metadata": {},
   "outputs": [
    {
     "name": "stdout",
     "output_type": "stream",
     "text": [
      "[[ 0  1  2  3  4]\n",
      " [ 5  6  7  8  9]\n",
      " [10 11 12 13 14]\n",
      " [15 16 17 18 19]\n",
      " [20 21 22 23 24]]\n"
     ]
    }
   ],
   "source": [
    "# We create a 5 x 5 ndarray that contains integers from 0 to 24\n",
    "X = np.arange(25).reshape(5, 5)\n",
    "print(X)"
   ]
  },
  {
   "cell_type": "code",
   "execution_count": 4,
   "id": "2310e710",
   "metadata": {},
   "outputs": [
    {
     "name": "stdout",
     "output_type": "stream",
     "text": [
      "The elements in X that are greater than 10: [11 12 13 14 15 16 17 18 19 20 21 22 23 24]\n"
     ]
    }
   ],
   "source": [
    "print('The elements in X that are greater than 10:', X[X > 10])"
   ]
  },
  {
   "cell_type": "code",
   "execution_count": 5,
   "id": "3dec489b",
   "metadata": {},
   "outputs": [
    {
     "name": "stdout",
     "output_type": "stream",
     "text": [
      "The elements in X that less than or equal to 7: [0 1 2 3 4 5 6 7]\n"
     ]
    }
   ],
   "source": [
    "print('The elements in X that less than or equal to 7:', X[X <= 7])"
   ]
  },
  {
   "cell_type": "code",
   "execution_count": 6,
   "id": "95acb981",
   "metadata": {},
   "outputs": [
    {
     "name": "stdout",
     "output_type": "stream",
     "text": [
      "The elements in X that are between 10 and 17: [11 12 13 14 15 16]\n"
     ]
    }
   ],
   "source": [
    "print('The elements in X that are between 10 and 17:', X[(X > 10) & (X < 17)])"
   ]
  },
  {
   "cell_type": "code",
   "execution_count": 7,
   "id": "f1fab1b0",
   "metadata": {},
   "outputs": [
    {
     "name": "stdout",
     "output_type": "stream",
     "text": [
      "[[ 0  1  2  3  4]\n",
      " [ 5  6  7  8  9]\n",
      " [10 -1 -1 -1 -1]\n",
      " [-1 -1 17 18 19]\n",
      " [20 21 22 23 24]]\n"
     ]
    }
   ],
   "source": [
    "X[(X > 10) & (X < 17)] = -1\n",
    "print(X)"
   ]
  },
  {
   "cell_type": "markdown",
   "id": "bf79f8f2",
   "metadata": {},
   "source": [
    "### Set Operation"
   ]
  },
  {
   "cell_type": "code",
   "execution_count": 8,
   "id": "5e89f5ad",
   "metadata": {},
   "outputs": [],
   "source": [
    "x = np.array([1,2,3,4,5])\n",
    "y = np.array([6,7,2,8,4])"
   ]
  },
  {
   "cell_type": "code",
   "execution_count": 9,
   "id": "7addcd34",
   "metadata": {},
   "outputs": [
    {
     "name": "stdout",
     "output_type": "stream",
     "text": [
      "The elements that are both in x and y: [2 4]\n"
     ]
    }
   ],
   "source": [
    "print('The elements that are both in x and y:', np.intersect1d(x,y))"
   ]
  },
  {
   "cell_type": "code",
   "execution_count": 10,
   "id": "4b251e6a",
   "metadata": {},
   "outputs": [
    {
     "name": "stdout",
     "output_type": "stream",
     "text": [
      "The elements that are in x that are not in y: [1 3 5]\n"
     ]
    }
   ],
   "source": [
    "print('The elements that are in x that are not in y:', np.setdiff1d(x,y))"
   ]
  },
  {
   "cell_type": "code",
   "execution_count": 11,
   "id": "9bacce55",
   "metadata": {},
   "outputs": [
    {
     "name": "stdout",
     "output_type": "stream",
     "text": [
      "All the elements of x and y: [1 2 3 4 5 6 7 8]\n"
     ]
    }
   ],
   "source": [
    "print('All the elements of x and y:',np.union1d(x,y))"
   ]
  },
  {
   "cell_type": "markdown",
   "id": "e9677277",
   "metadata": {},
   "source": [
    "### numpy.ndarray.sort method\n",
    "ndarray.sort(axis=-1, kind=None, order=None)\n",
    "\n",
    "Like with other functions we saw before, the sort can be used as a method as well as a function. The difference lies in how the data is stored in memory in this case.\n",
    "\n",
    "* When `numpy.sort()` is used as a function, it sorts the ndrrays out of place, meaning, that it doesn't change the original ndarray being sorted.\n",
    "* On the other hand, when you use `numpy.ndarray.sort()` as a method, ndarray.sort() sorts the ndarray in place, meaning, that the original array will be changed to the sorted one."
   ]
  },
  {
   "cell_type": "markdown",
   "id": "f80e4497",
   "metadata": {},
   "source": [
    "#### Sort arrays using sort function"
   ]
  },
  {
   "cell_type": "code",
   "execution_count": 12,
   "id": "eeb8317d",
   "metadata": {},
   "outputs": [
    {
     "name": "stdout",
     "output_type": "stream",
     "text": [
      "[ 5 10  1  2  9  9  3  7  6  4]\n"
     ]
    }
   ],
   "source": [
    "x = np.random.randint(1, 11, size=(10,))\n",
    "print(x)"
   ]
  },
  {
   "cell_type": "code",
   "execution_count": 17,
   "id": "e71c07d7",
   "metadata": {},
   "outputs": [
    {
     "name": "stdout",
     "output_type": "stream",
     "text": [
      "Sorted x (out of place): [ 1  2  3  4  5  6  7  9  9 10]\n"
     ]
    }
   ],
   "source": [
    "## use sort as a function\n",
    "print('Sorted x (out of place):', np.sort(x))"
   ]
  },
  {
   "cell_type": "code",
   "execution_count": 18,
   "id": "2182b0a8",
   "metadata": {},
   "outputs": [
    {
     "name": "stdout",
     "output_type": "stream",
     "text": [
      "[ 5 10  1  2  9  9  3  7  6  4]\n"
     ]
    }
   ],
   "source": [
    "# x after sort\n",
    "print(x)"
   ]
  },
  {
   "cell_type": "code",
   "execution_count": 19,
   "id": "8b662bfc",
   "metadata": {},
   "outputs": [
    {
     "name": "stdout",
     "output_type": "stream",
     "text": [
      "[ 1  2  3  4  5  6  7  9 10]\n"
     ]
    }
   ],
   "source": [
    "# Returns the sorted unique elements of an array\n",
    "print(np.unique(x))"
   ]
  },
  {
   "cell_type": "code",
   "execution_count": 20,
   "id": "b2427f67",
   "metadata": {},
   "outputs": [
    {
     "name": "stdout",
     "output_type": "stream",
     "text": [
      "[ 5 10  1  2  9  9  3  7  6  4]\n"
     ]
    }
   ],
   "source": [
    "## Use sort as a method\n",
    "print(x)"
   ]
  },
  {
   "cell_type": "code",
   "execution_count": 22,
   "id": "a802964b",
   "metadata": {},
   "outputs": [],
   "source": [
    "x.sort()"
   ]
  },
  {
   "cell_type": "code",
   "execution_count": 23,
   "id": "6af5b9fe",
   "metadata": {},
   "outputs": [
    {
     "name": "stdout",
     "output_type": "stream",
     "text": [
      "[ 1  2  3  4  5  6  7  9  9 10]\n"
     ]
    }
   ],
   "source": [
    "print(x)"
   ]
  },
  {
   "cell_type": "markdown",
   "id": "9b774ad7",
   "metadata": {},
   "source": [
    "### Sort Rank2 array by specific axis"
   ]
  },
  {
   "cell_type": "code",
   "execution_count": 24,
   "id": "13e3baed",
   "metadata": {
    "scrolled": true
   },
   "outputs": [
    {
     "name": "stdout",
     "output_type": "stream",
     "text": [
      "[[ 5  9  1  5  5]\n",
      " [ 8  4  2  6  7]\n",
      " [10  7  5 10  5]\n",
      " [ 5  2  6 10  4]\n",
      " [ 1  7  9  9  7]]\n"
     ]
    }
   ],
   "source": [
    "X = np.random.randint(1,11,size=(5,5))\n",
    "print(X)"
   ]
  },
  {
   "cell_type": "code",
   "execution_count": 28,
   "id": "7580e3a1",
   "metadata": {},
   "outputs": [
    {
     "name": "stdout",
     "output_type": "stream",
     "text": [
      "X with sorted default axis -1 : \n",
      " [[ 1  5  5  5  9]\n",
      " [ 2  4  6  7  8]\n",
      " [ 5  5  7 10 10]\n",
      " [ 2  4  5  6 10]\n",
      " [ 1  7  7  9  9]]\n"
     ]
    }
   ],
   "source": [
    "print('X with sorted default axis -1 : \\n', np.sort(X, axis=-1))"
   ]
  },
  {
   "cell_type": "code",
   "execution_count": 25,
   "id": "f08d6073",
   "metadata": {},
   "outputs": [
    {
     "name": "stdout",
     "output_type": "stream",
     "text": [
      "X with sorted columns :\n",
      " [[ 1  2  1  5  4]\n",
      " [ 5  4  2  6  5]\n",
      " [ 5  7  5  9  5]\n",
      " [ 8  7  6 10  7]\n",
      " [10  9  9 10  7]]\n"
     ]
    }
   ],
   "source": [
    "print('X with sorted columns :\\n', np.sort(X, axis = 0))"
   ]
  },
  {
   "cell_type": "code",
   "execution_count": 26,
   "id": "d4df7e3e",
   "metadata": {},
   "outputs": [
    {
     "name": "stdout",
     "output_type": "stream",
     "text": [
      "X with sorted rows :\n",
      " [[ 1  5  5  5  9]\n",
      " [ 2  4  6  7  8]\n",
      " [ 5  5  7 10 10]\n",
      " [ 2  4  5  6 10]\n",
      " [ 1  7  7  9  9]]\n"
     ]
    }
   ],
   "source": [
    "print('X with sorted rows :\\n', np.sort(X, axis = 1))"
   ]
  },
  {
   "cell_type": "code",
   "execution_count": null,
   "id": "df0e098c",
   "metadata": {},
   "outputs": [],
   "source": []
  }
 ],
 "metadata": {
  "kernelspec": {
   "display_name": "Python 3 (ipykernel)",
   "language": "python",
   "name": "python3"
  },
  "language_info": {
   "codemirror_mode": {
    "name": "ipython",
    "version": 3
   },
   "file_extension": ".py",
   "mimetype": "text/x-python",
   "name": "python",
   "nbconvert_exporter": "python",
   "pygments_lexer": "ipython3",
   "version": "3.10.4"
  }
 },
 "nbformat": 4,
 "nbformat_minor": 5
}
