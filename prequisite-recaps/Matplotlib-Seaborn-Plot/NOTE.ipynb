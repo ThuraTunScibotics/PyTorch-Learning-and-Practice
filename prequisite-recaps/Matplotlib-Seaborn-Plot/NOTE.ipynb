{
 "cells": [
  {
   "cell_type": "markdown",
   "id": "0bbbf764",
   "metadata": {},
   "source": [
    "### Bar chart Vs Histogram"
   ]
  },
  {
   "cell_type": "markdown",
   "id": "b065968a",
   "metadata": {},
   "source": [
    "* For **Quantitative** Variable - the most common plot type is **Histogram**.\n",
    "* For **Qualatative** Variabel - the most common plot type is **Bar chart**."
   ]
  },
  {
   "cell_type": "code",
   "execution_count": null,
   "id": "a9ef587f",
   "metadata": {},
   "outputs": [],
   "source": []
  }
 ],
 "metadata": {
  "kernelspec": {
   "display_name": "Python 3 (ipykernel)",
   "language": "python",
   "name": "python3"
  },
  "language_info": {
   "codemirror_mode": {
    "name": "ipython",
    "version": 3
   },
   "file_extension": ".py",
   "mimetype": "text/x-python",
   "name": "python",
   "nbconvert_exporter": "python",
   "pygments_lexer": "ipython3",
   "version": "3.10.4"
  }
 },
 "nbformat": 4,
 "nbformat_minor": 5
}
