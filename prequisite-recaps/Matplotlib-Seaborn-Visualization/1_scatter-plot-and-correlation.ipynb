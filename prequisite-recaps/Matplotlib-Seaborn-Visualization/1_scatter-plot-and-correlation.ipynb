{
 "cells": [
  {
   "cell_type": "markdown",
   "id": "6d322390",
   "metadata": {},
   "source": [
    "## Scatterplots\n",
    "If we want to inspect the **relationship between two numeric variables**, the standard choice of plot is the **scatterplot**. In a scatterplot, each data point is plotted individually as a point, its x-position corresponding to one feature value and its y-position corresponding to the second.\n",
    "\n",
    "`matplotlib.pyplot.scatter()`"
   ]
  },
  {
   "cell_type": "code",
   "execution_count": 1,
   "id": "0e1e9891",
   "metadata": {},
   "outputs": [],
   "source": [
    "import numpy as np\n",
    "import pandas as pd\n",
    "import seaborn as sb\n",
    "import matplotlib.pyplot as plt\n",
    "\n",
    "%matplotlib inline"
   ]
  },
  {
   "cell_type": "code",
   "execution_count": 2,
   "id": "f5f6cf1e",
   "metadata": {},
   "outputs": [
    {
     "data": {
      "text/html": [
       "<div>\n",
       "<style scoped>\n",
       "    .dataframe tbody tr th:only-of-type {\n",
       "        vertical-align: middle;\n",
       "    }\n",
       "\n",
       "    .dataframe tbody tr th {\n",
       "        vertical-align: top;\n",
       "    }\n",
       "\n",
       "    .dataframe thead th {\n",
       "        text-align: right;\n",
       "    }\n",
       "</style>\n",
       "<table border=\"1\" class=\"dataframe\">\n",
       "  <thead>\n",
       "    <tr style=\"text-align: right;\">\n",
       "      <th></th>\n",
       "      <th>id</th>\n",
       "      <th>make</th>\n",
       "      <th>model</th>\n",
       "      <th>year</th>\n",
       "      <th>VClass</th>\n",
       "      <th>drive</th>\n",
       "      <th>trans</th>\n",
       "      <th>fuelType</th>\n",
       "      <th>cylinders</th>\n",
       "      <th>displ</th>\n",
       "      <th>pv2</th>\n",
       "      <th>pv4</th>\n",
       "      <th>city</th>\n",
       "      <th>UCity</th>\n",
       "      <th>highway</th>\n",
       "      <th>UHighway</th>\n",
       "      <th>comb</th>\n",
       "      <th>co2</th>\n",
       "      <th>feScore</th>\n",
       "      <th>ghgScore</th>\n",
       "    </tr>\n",
       "  </thead>\n",
       "  <tbody>\n",
       "    <tr>\n",
       "      <th>0</th>\n",
       "      <td>32204</td>\n",
       "      <td>Nissan</td>\n",
       "      <td>GT-R</td>\n",
       "      <td>2013</td>\n",
       "      <td>Subcompact Cars</td>\n",
       "      <td>All-Wheel Drive</td>\n",
       "      <td>Automatic (AM6)</td>\n",
       "      <td>Premium Gasoline</td>\n",
       "      <td>6</td>\n",
       "      <td>3.8</td>\n",
       "      <td>79</td>\n",
       "      <td>0</td>\n",
       "      <td>16.4596</td>\n",
       "      <td>20.2988</td>\n",
       "      <td>22.5568</td>\n",
       "      <td>30.1798</td>\n",
       "      <td>18.7389</td>\n",
       "      <td>471</td>\n",
       "      <td>4</td>\n",
       "      <td>4</td>\n",
       "    </tr>\n",
       "    <tr>\n",
       "      <th>1</th>\n",
       "      <td>32205</td>\n",
       "      <td>Volkswagen</td>\n",
       "      <td>CC</td>\n",
       "      <td>2013</td>\n",
       "      <td>Compact Cars</td>\n",
       "      <td>Front-Wheel Drive</td>\n",
       "      <td>Automatic (AM-S6)</td>\n",
       "      <td>Premium Gasoline</td>\n",
       "      <td>4</td>\n",
       "      <td>2.0</td>\n",
       "      <td>94</td>\n",
       "      <td>0</td>\n",
       "      <td>21.8706</td>\n",
       "      <td>26.9770</td>\n",
       "      <td>31.0367</td>\n",
       "      <td>42.4936</td>\n",
       "      <td>25.2227</td>\n",
       "      <td>349</td>\n",
       "      <td>6</td>\n",
       "      <td>6</td>\n",
       "    </tr>\n",
       "    <tr>\n",
       "      <th>2</th>\n",
       "      <td>32206</td>\n",
       "      <td>Volkswagen</td>\n",
       "      <td>CC</td>\n",
       "      <td>2013</td>\n",
       "      <td>Compact Cars</td>\n",
       "      <td>Front-Wheel Drive</td>\n",
       "      <td>Automatic (S6)</td>\n",
       "      <td>Premium Gasoline</td>\n",
       "      <td>6</td>\n",
       "      <td>3.6</td>\n",
       "      <td>94</td>\n",
       "      <td>0</td>\n",
       "      <td>17.4935</td>\n",
       "      <td>21.2000</td>\n",
       "      <td>26.5716</td>\n",
       "      <td>35.1000</td>\n",
       "      <td>20.6716</td>\n",
       "      <td>429</td>\n",
       "      <td>5</td>\n",
       "      <td>5</td>\n",
       "    </tr>\n",
       "    <tr>\n",
       "      <th>3</th>\n",
       "      <td>32207</td>\n",
       "      <td>Volkswagen</td>\n",
       "      <td>CC 4motion</td>\n",
       "      <td>2013</td>\n",
       "      <td>Compact Cars</td>\n",
       "      <td>All-Wheel Drive</td>\n",
       "      <td>Automatic (S6)</td>\n",
       "      <td>Premium Gasoline</td>\n",
       "      <td>6</td>\n",
       "      <td>3.6</td>\n",
       "      <td>94</td>\n",
       "      <td>0</td>\n",
       "      <td>16.9415</td>\n",
       "      <td>20.5000</td>\n",
       "      <td>25.2190</td>\n",
       "      <td>33.5000</td>\n",
       "      <td>19.8774</td>\n",
       "      <td>446</td>\n",
       "      <td>5</td>\n",
       "      <td>5</td>\n",
       "    </tr>\n",
       "    <tr>\n",
       "      <th>4</th>\n",
       "      <td>32208</td>\n",
       "      <td>Chevrolet</td>\n",
       "      <td>Malibu eAssist</td>\n",
       "      <td>2013</td>\n",
       "      <td>Midsize Cars</td>\n",
       "      <td>Front-Wheel Drive</td>\n",
       "      <td>Automatic (S6)</td>\n",
       "      <td>Regular Gasoline</td>\n",
       "      <td>4</td>\n",
       "      <td>2.4</td>\n",
       "      <td>0</td>\n",
       "      <td>95</td>\n",
       "      <td>24.7726</td>\n",
       "      <td>31.9796</td>\n",
       "      <td>35.5340</td>\n",
       "      <td>51.8816</td>\n",
       "      <td>28.6813</td>\n",
       "      <td>310</td>\n",
       "      <td>8</td>\n",
       "      <td>8</td>\n",
       "    </tr>\n",
       "  </tbody>\n",
       "</table>\n",
       "</div>"
      ],
      "text/plain": [
       "      id        make           model  year           VClass  \\\n",
       "0  32204      Nissan            GT-R  2013  Subcompact Cars   \n",
       "1  32205  Volkswagen              CC  2013     Compact Cars   \n",
       "2  32206  Volkswagen              CC  2013     Compact Cars   \n",
       "3  32207  Volkswagen      CC 4motion  2013     Compact Cars   \n",
       "4  32208   Chevrolet  Malibu eAssist  2013     Midsize Cars   \n",
       "\n",
       "               drive              trans          fuelType  cylinders  displ  \\\n",
       "0    All-Wheel Drive    Automatic (AM6)  Premium Gasoline          6    3.8   \n",
       "1  Front-Wheel Drive  Automatic (AM-S6)  Premium Gasoline          4    2.0   \n",
       "2  Front-Wheel Drive     Automatic (S6)  Premium Gasoline          6    3.6   \n",
       "3    All-Wheel Drive     Automatic (S6)  Premium Gasoline          6    3.6   \n",
       "4  Front-Wheel Drive     Automatic (S6)  Regular Gasoline          4    2.4   \n",
       "\n",
       "   pv2  pv4     city    UCity  highway  UHighway     comb  co2  feScore  \\\n",
       "0   79    0  16.4596  20.2988  22.5568   30.1798  18.7389  471        4   \n",
       "1   94    0  21.8706  26.9770  31.0367   42.4936  25.2227  349        6   \n",
       "2   94    0  17.4935  21.2000  26.5716   35.1000  20.6716  429        5   \n",
       "3   94    0  16.9415  20.5000  25.2190   33.5000  19.8774  446        5   \n",
       "4    0   95  24.7726  31.9796  35.5340   51.8816  28.6813  310        8   \n",
       "\n",
       "   ghgScore  \n",
       "0         4  \n",
       "1         6  \n",
       "2         5  \n",
       "3         5  \n",
       "4         8  "
      ]
     },
     "execution_count": 2,
     "metadata": {},
     "output_type": "execute_result"
    }
   ],
   "source": [
    "# Read the CSV file\n",
    "fuel_econ = pd.read_csv('fuel-econ.csv')\n",
    "fuel_econ.head()"
   ]
  },
  {
   "cell_type": "markdown",
   "id": "8ce7c28f",
   "metadata": {},
   "source": [
    "### Scatter plot showing negative correlation between two variables"
   ]
  },
  {
   "cell_type": "code",
   "execution_count": 3,
   "id": "f5b91261",
   "metadata": {},
   "outputs": [
    {
     "data": {
      "image/png": "[encoded data removed]",
      "text/plain": [
       "<Figure size 432x288 with 1 Axes>"
      ]
     },
     "metadata": {
      "needs_background": "light"
     },
     "output_type": "display_data"
    }
   ],
   "source": [
    "# Scatter plot\n",
    "plt.scatter(data = fuel_econ, x = 'displ', y = 'comb');\n",
    "\n",
    "plt.xlabel('Displacement (1)')\n",
    "plt.ylabel('Combined Fuel Eff. (mpg)');"
   ]
  },
  {
   "cell_type": "markdown",
   "id": "30b899e8",
   "metadata": {},
   "source": [
    "In the example above, the relationship between the two variables is negative because as higher values of the x-axis variable are increasing, the values of the variable plotted on the y-axis are decreasing."
   ]
  },
  {
   "cell_type": "markdown",
   "id": "89784b89",
   "metadata": {},
   "source": [
    "### Alternative Approach - seaborn.regplot()\n",
    "Seaborn's `sb.regplot()` function combines **scatterplot creation** with **regression function fitting**:"
   ]
  },
  {
   "cell_type": "markdown",
   "id": "1402d328",
   "metadata": {},
   "source": [
    "#### Scatter plot showing negative correlation between two variables"
   ]
  },
  {
   "cell_type": "code",
   "execution_count": 4,
   "id": "52b75838",
   "metadata": {},
   "outputs": [
    {
     "data": {
      "image/png": "[encoded data removed]",
      "text/plain": [
       "<Figure size 432x288 with 1 Axes>"
      ]
     },
     "metadata": {
      "needs_background": "light"
     },
     "output_type": "display_data"
    }
   ],
   "source": [
    "sb.regplot(data = fuel_econ, x = 'displ', y = 'comb');\n",
    "plt.xlabel('Displacement (1)')\n",
    "plt.ylabel('Combined Fuel Eff. (mpg)');"
   ]
  },
  {
   "cell_type": "markdown",
   "id": "ebd2e0a9",
   "metadata": {},
   "source": [
    "#### Scatter plot showing a positive correlation between two variables"
   ]
  },
  {
   "cell_type": "markdown",
   "id": "3d7c5e92",
   "metadata": {},
   "source": [
    "In the scatter plot above, by default, the regression function is linear and includes a shaded confidence region for the regression estimate. In this case, since the trend looks like a **\\text{log}(y) \\propto xlog(y)∝x relationship** (that is, *linear increases in the value of x are associated with linear increases in the log of y*), plotting the regression line on the raw units is not appropriate. If we **don't care about the regression line**, then we could set `fit_reg = False` in the regplot function call."
   ]
  },
  {
   "cell_type": "code",
   "execution_count": 5,
   "id": "0b2ed49c",
   "metadata": {},
   "outputs": [
    {
     "data": {
      "image/png": "[encoded data removed]",
      "text/plain": [
       "<Figure size 432x288 with 1 Axes>"
      ]
     },
     "metadata": {
      "needs_background": "light"
     },
     "output_type": "display_data"
    }
   ],
   "source": [
    "sb.regplot(data = fuel_econ, x = 'displ', y = 'comb', fit_reg = False);\n",
    "plt.xlabel('Displacement (1)')\n",
    "plt.ylabel('Combined Fuel Eff. (mpg)');"
   ]
  },
  {
   "cell_type": "markdown",
   "id": "854791bc",
   "metadata": {},
   "source": [
    "### Plot the regression line on the transformed data\n",
    "You can even plot the regression line on the transformed data as shown in the example below. For transformation, use a similar approach as you've learned in the last lesson."
   ]
  },
  {
   "cell_type": "code",
   "execution_count": 6,
   "id": "cd923e9d",
   "metadata": {},
   "outputs": [
    {
     "name": "stderr",
     "output_type": "stream",
     "text": [
      "/home/thura/Desktop/computer-vision-and-DL/torch-cv-env/lib/python3.10/site-packages/seaborn/_decorators.py:36: FutureWarning: Pass the following variables as keyword args: x, y. From version 0.12, the only valid positional argument will be `data`, and passing other arguments without an explicit keyword will result in an error or misinterpretation.\n",
      "  warnings.warn(\n"
     ]
    },
    {
     "data": {
      "image/png": "[encoded data removed]",
      "text/plain": [
       "<Figure size 432x288 with 1 Axes>"
      ]
     },
     "metadata": {
      "needs_background": "light"
     },
     "output_type": "display_data"
    }
   ],
   "source": [
    "def log_trans(x, inverse = False):\n",
    "    if not inverse:\n",
    "        return np.log10(x)\n",
    "    else:\n",
    "        return np.power(10, x)\n",
    "\n",
    "sb.regplot(fuel_econ['displ'], fuel_econ['comb'].apply(log_trans))\n",
    "tick_locs = [10, 20, 50, 100]\n",
    "plt.yticks(log_trans(tick_locs), tick_locs);"
   ]
  },
  {
   "cell_type": "markdown",
   "id": "47ed00b0",
   "metadata": {},
   "source": [
    "**Note** - In this example, the x- and y- values sent to `regplot` are set directly as 'Series', extracted from the 'dataframe'."
   ]
  },
  {
   "cell_type": "code",
   "execution_count": null,
   "id": "563df56e",
   "metadata": {},
   "outputs": [],
   "source": []
  }
 ],
 "metadata": {
  "kernelspec": {
   "display_name": "Python 3 (ipykernel)",
   "language": "python",
   "name": "python3"
  },
  "language_info": {
   "codemirror_mode": {
    "name": "ipython",
    "version": 3
   },
   "file_extension": ".py",
   "mimetype": "text/x-python",
   "name": "python",
   "nbconvert_exporter": "python",
   "pygments_lexer": "ipython3",
   "version": "3.10.6"
  }
 },
 "nbformat": 4,
 "nbformat_minor": 5
}
