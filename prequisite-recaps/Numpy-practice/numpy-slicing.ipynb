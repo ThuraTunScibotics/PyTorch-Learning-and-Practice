{
 "cells": [
  {
   "cell_type": "code",
   "execution_count": 1,
   "id": "8ee4df2c",
   "metadata": {},
   "outputs": [],
   "source": [
    "import numpy as np"
   ]
  },
  {
   "cell_type": "markdown",
   "id": "516fd138",
   "metadata": {},
   "source": [
    "#### ndarray[start:end]\n",
    "#### ndarray[start:]\n",
    "#### ndarray[:end]\n",
    "*start* is included and *end* is excluded"
   ]
  },
  {
   "cell_type": "markdown",
   "id": "be8831fc",
   "metadata": {},
   "source": [
    "### Slicing a 2D array"
   ]
  },
  {
   "cell_type": "code",
   "execution_count": 12,
   "id": "290a9bc7",
   "metadata": {},
   "outputs": [
    {
     "name": "stdout",
     "output_type": "stream",
     "text": [
      "[[ 0  1  2  3  4]\n",
      " [ 5  6  7  8  9]\n",
      " [10 11 12 13 14]\n",
      " [15 16 17 18 19]]\n"
     ]
    }
   ],
   "source": [
    "X = np.arange(20).reshape(4, 5)\n",
    "\n",
    "print(X)"
   ]
  },
  {
   "cell_type": "code",
   "execution_count": 4,
   "id": "013ef964",
   "metadata": {},
   "outputs": [
    {
     "name": "stdout",
     "output_type": "stream",
     "text": [
      "[[ 7  8  9]\n",
      " [12 13 14]\n",
      " [17 18 19]]\n"
     ]
    }
   ],
   "source": [
    "Z = X[1:4, 2:5]\n",
    "print(Z)"
   ]
  },
  {
   "cell_type": "code",
   "execution_count": 5,
   "id": "d5976507",
   "metadata": {},
   "outputs": [
    {
     "name": "stdout",
     "output_type": "stream",
     "text": [
      "[[ 7  8  9]\n",
      " [12 13 14]\n",
      " [17 18 19]]\n"
     ]
    }
   ],
   "source": [
    "W = X[1:,2:5]\n",
    "print(W)"
   ]
  },
  {
   "cell_type": "code",
   "execution_count": 8,
   "id": "70774396",
   "metadata": {},
   "outputs": [
    {
     "name": "stdout",
     "output_type": "stream",
     "text": [
      "[[ 2  3  4]\n",
      " [ 7  8  9]\n",
      " [12 13 14]]\n"
     ]
    }
   ],
   "source": [
    "Y = X[:3,2:5]\n",
    "print(Y)"
   ]
  },
  {
   "cell_type": "code",
   "execution_count": 9,
   "id": "b2dbb5d0",
   "metadata": {},
   "outputs": [
    {
     "name": "stdout",
     "output_type": "stream",
     "text": [
      "[10 11 12 13 14]\n"
     ]
    }
   ],
   "source": [
    "v = X[2,:]\n",
    "print(v)"
   ]
  },
  {
   "cell_type": "code",
   "execution_count": 10,
   "id": "42cc9106",
   "metadata": {},
   "outputs": [
    {
     "name": "stdout",
     "output_type": "stream",
     "text": [
      "[ 2  7 12 17]\n"
     ]
    }
   ],
   "source": [
    "q = X[:,2]\n",
    "print(q)"
   ]
  },
  {
   "cell_type": "code",
   "execution_count": 13,
   "id": "1ee6d19a",
   "metadata": {},
   "outputs": [
    {
     "name": "stdout",
     "output_type": "stream",
     "text": [
      "[[ 2]\n",
      " [ 7]\n",
      " [12]\n",
      " [17]]\n"
     ]
    }
   ],
   "source": [
    "R = X[:,2:3] # to create rank2 version of above cell\n",
    "print(R)"
   ]
  },
  {
   "cell_type": "markdown",
   "id": "e82058c3",
   "metadata": {},
   "source": [
    "### Slicing and editing elements in a 2D array"
   ]
  },
  {
   "cell_type": "code",
   "execution_count": 15,
   "id": "7836af34",
   "metadata": {},
   "outputs": [
    {
     "name": "stdout",
     "output_type": "stream",
     "text": [
      "[[ 0  1  2  3  4]\n",
      " [ 5  6  7  8  9]\n",
      " [10 11 12 13 14]\n",
      " [15 16 17 18 19]]\n"
     ]
    }
   ],
   "source": [
    "X = np.arange(20).reshape(4, 5)\n",
    "print(X)"
   ]
  },
  {
   "cell_type": "code",
   "execution_count": 16,
   "id": "e060b823",
   "metadata": {},
   "outputs": [
    {
     "name": "stdout",
     "output_type": "stream",
     "text": [
      "[[ 7  8  9]\n",
      " [12 13 14]\n",
      " [17 18 19]]\n"
     ]
    }
   ],
   "source": [
    "Z = X[1:4,2:5]\n",
    "print(Z)"
   ]
  },
  {
   "cell_type": "code",
   "execution_count": 19,
   "id": "81362268",
   "metadata": {},
   "outputs": [
    {
     "name": "stdout",
     "output_type": "stream",
     "text": [
      "[[  7   8   9]\n",
      " [ 12  13  14]\n",
      " [ 17  18 555]]\n"
     ]
    }
   ],
   "source": [
    "Z[2, 2] = 555\n",
    "print(Z)"
   ]
  },
  {
   "cell_type": "code",
   "execution_count": 18,
   "id": "c488c871",
   "metadata": {},
   "outputs": [
    {
     "name": "stdout",
     "output_type": "stream",
     "text": [
      "[[  0   1   2   3   4]\n",
      " [  5   6   7   8   9]\n",
      " [ 10  11  12  13  14]\n",
      " [ 15  16  17  18 555]]\n"
     ]
    }
   ],
   "source": [
    "print(X)"
   ]
  },
  {
   "cell_type": "markdown",
   "id": "d9746971",
   "metadata": {},
   "source": [
    "We can clearly see in the above example that if we make changes to Z, X changes as well."
   ]
  },
  {
   "cell_type": "markdown",
   "id": "289f9c7a",
   "metadata": {},
   "source": [
    "### Using of copy()"
   ]
  },
  {
   "cell_type": "code",
   "execution_count": 27,
   "id": "8ca41ca9",
   "metadata": {},
   "outputs": [
    {
     "name": "stdout",
     "output_type": "stream",
     "text": [
      "[[ 0  1  2  3  4]\n",
      " [ 5  6  7  8  9]\n",
      " [10 11 12 13 14]\n",
      " [15 16 17 18 19]]\n"
     ]
    }
   ],
   "source": [
    "X = np.arange(20).reshape(4, 5)\n",
    "print(X)"
   ]
  },
  {
   "cell_type": "code",
   "execution_count": 28,
   "id": "177f8e26",
   "metadata": {},
   "outputs": [
    {
     "name": "stdout",
     "output_type": "stream",
     "text": [
      "[[ 7  8  9]\n",
      " [12 13 14]\n",
      " [17 18 19]]\n"
     ]
    }
   ],
   "source": [
    "Z = np.copy(X[1:4,2:5])\n",
    "print(Z)"
   ]
  },
  {
   "cell_type": "code",
   "execution_count": 29,
   "id": "549155ec",
   "metadata": {},
   "outputs": [
    {
     "name": "stdout",
     "output_type": "stream",
     "text": [
      "[[ 7  8  9]\n",
      " [12 13 14]\n",
      " [17 18 19]]\n"
     ]
    }
   ],
   "source": [
    "W = X[1:4,2:5].copy()\n",
    "print(W)"
   ]
  },
  {
   "cell_type": "code",
   "execution_count": 30,
   "id": "a654dc9b",
   "metadata": {
    "scrolled": true
   },
   "outputs": [
    {
     "name": "stdout",
     "output_type": "stream",
     "text": [
      "[[  7   8   9]\n",
      " [ 12  13  14]\n",
      " [ 17  18 555]]\n"
     ]
    }
   ],
   "source": [
    "Z[2,2] = 555\n",
    "print(Z)"
   ]
  },
  {
   "cell_type": "code",
   "execution_count": 35,
   "id": "367da46a",
   "metadata": {},
   "outputs": [
    {
     "name": "stdout",
     "output_type": "stream",
     "text": [
      "[[ 0  1  2  3  4]\n",
      " [ 5  6  7  8  9]\n",
      " [10 11 12 13 14]\n",
      " [15 16 17 18 19]]\n"
     ]
    }
   ],
   "source": [
    "print(X)"
   ]
  },
  {
   "cell_type": "code",
   "execution_count": 33,
   "id": "d8158f47",
   "metadata": {},
   "outputs": [
    {
     "name": "stdout",
     "output_type": "stream",
     "text": [
      "[[ 7  8  9]\n",
      " [12 13 14]\n",
      " [17 18 19]]\n"
     ]
    }
   ],
   "source": [
    "print(W)"
   ]
  },
  {
   "cell_type": "code",
   "execution_count": 34,
   "id": "f1d6e85a",
   "metadata": {},
   "outputs": [
    {
     "name": "stdout",
     "output_type": "stream",
     "text": [
      "[[  7   8   9]\n",
      " [ 12  13  14]\n",
      " [ 17  18 444]]\n"
     ]
    }
   ],
   "source": [
    "W[2, 2] = 444\n",
    "print(W)"
   ]
  },
  {
   "cell_type": "markdown",
   "id": "7b754a5b",
   "metadata": {},
   "source": [
    "### Use an array as indices to either make slices, select, or change elements"
   ]
  },
  {
   "cell_type": "code",
   "execution_count": 36,
   "id": "4536ba7d",
   "metadata": {},
   "outputs": [
    {
     "name": "stdout",
     "output_type": "stream",
     "text": [
      "[[ 0  1  2  3  4]\n",
      " [ 5  6  7  8  9]\n",
      " [10 11 12 13 14]\n",
      " [15 16 17 18 19]]\n"
     ]
    }
   ],
   "source": [
    "X = np.arange(20).reshape(4, 5)\n",
    "print(X)"
   ]
  },
  {
   "cell_type": "code",
   "execution_count": 38,
   "id": "52e04ebe",
   "metadata": {},
   "outputs": [
    {
     "name": "stdout",
     "output_type": "stream",
     "text": [
      "[1 3]\n"
     ]
    }
   ],
   "source": [
    "indices = np.array([1,3])\n",
    "print(indices)"
   ]
  },
  {
   "cell_type": "code",
   "execution_count": 39,
   "id": "18dff049",
   "metadata": {},
   "outputs": [
    {
     "name": "stdout",
     "output_type": "stream",
     "text": [
      "[[ 5  6  7  8  9]\n",
      " [15 16 17 18 19]]\n"
     ]
    }
   ],
   "source": [
    "# We use the indices ndarray to select the 2nd and 4th row of X\n",
    "Y = X[indices,:]\n",
    "print(Y)"
   ]
  },
  {
   "cell_type": "code",
   "execution_count": 40,
   "id": "f8484efb",
   "metadata": {},
   "outputs": [
    {
     "name": "stdout",
     "output_type": "stream",
     "text": [
      "[[ 1  3]\n",
      " [ 6  8]\n",
      " [11 13]\n",
      " [16 18]]\n"
     ]
    }
   ],
   "source": [
    "Z = X[:, indices]\n",
    "print(Z)"
   ]
  },
  {
   "cell_type": "markdown",
   "id": "7b357bdd",
   "metadata": {},
   "source": [
    "### Use an array as indices to extract specific rows from a rank 2 ndarray"
   ]
  },
  {
   "cell_type": "code",
   "execution_count": 44,
   "id": "5384aab3",
   "metadata": {},
   "outputs": [
    {
     "name": "stdout",
     "output_type": "stream",
     "text": [
      "Shape of X is:  (50, 5)\n",
      "\n",
      "[[ 3  4 16  3  9]\n",
      " [ 3 12 14 18 19]\n",
      " [ 7  2  4 14  3]\n",
      " [15  9  8  1 19]\n",
      " [12 16  6 14  9]\n",
      " [ 6  9 18 15  8]\n",
      " [10  3  3 10  1]\n",
      " [ 5 12  9  5 10]\n",
      " [ 6  9 18 19  7]\n",
      " [17  2 12  6 18]\n",
      " [18 15 12 12  3]\n",
      " [14 14 17 15  8]\n",
      " [17  5  9  3  6]\n",
      " [10 18  2 13  8]\n",
      " [ 6 16 12  8 15]\n",
      " [12  7  7 17 18]\n",
      " [15 10  8  9 12]\n",
      " [ 8  8 10 15 11]\n",
      " [10 11 14  9  3]\n",
      " [18  7 19 17 15]\n",
      " [18 17 12 10  3]\n",
      " [19 14 18 14 15]\n",
      " [14 19 18  1 17]\n",
      " [ 2  3  8 18 16]\n",
      " [ 1 13  4 15 12]\n",
      " [15 15 19  2 18]\n",
      " [ 3  3 10 19 12]\n",
      " [10  6 14 16  9]\n",
      " [15 16 15 15  1]\n",
      " [15 15  7  1  4]\n",
      " [ 7 18 12  3  9]\n",
      " [10  8  4  6 10]\n",
      " [ 4  7 18  6  6]\n",
      " [15 13 10  7  6]\n",
      " [ 8 14 14 13 18]\n",
      " [ 4  6  2  6  2]\n",
      " [19 13 17 18 16]\n",
      " [ 6 10  7 10 10]\n",
      " [11 11  5  5 15]\n",
      " [13  2  3  2 11]\n",
      " [10 15  1  8  6]\n",
      " [ 7 13  4  8 15]\n",
      " [14  3  5  9 19]\n",
      " [18  3 17  3  4]\n",
      " [ 9  9 11 19 14]\n",
      " [19 15  9 18  5]\n",
      " [19  6 11 11 15]\n",
      " [ 9  9  7 18 16]\n",
      " [ 4  6 19  7 10]\n",
      " [12 10  5  1  1]]\n"
     ]
    }
   ],
   "source": [
    "X = np.random.randint(1,20, size=(50,5))\n",
    "print(\"Shape of X is: \", X.shape)\n",
    "print()\n",
    "print(X)"
   ]
  },
  {
   "cell_type": "code",
   "execution_count": 45,
   "id": "c55bcd9d",
   "metadata": {},
   "outputs": [
    {
     "name": "stdout",
     "output_type": "stream",
     "text": [
      "Random 10 indices are:  [45 31  9 33 12 24 18 33 46  3]\n"
     ]
    }
   ],
   "source": [
    "# Create a rank 1 ndarray that contains a randomly chosen 10 values between `0` to `len(X)` (50)\n",
    "# The row_indices would represent the indices of rows of X\n",
    "row_indices = np.random.randint(0,50, size=10)\n",
    "print(\"Random 10 indices are: \", row_indices)"
   ]
  },
  {
   "cell_type": "code",
   "execution_count": 46,
   "id": "ae027ba8",
   "metadata": {},
   "outputs": [
    {
     "name": "stdout",
     "output_type": "stream",
     "text": [
      "[[19 15  9 18  5]\n",
      " [10  8  4  6 10]\n",
      " [17  2 12  6 18]\n",
      " [15 13 10  7  6]\n",
      " [17  5  9  3  6]\n",
      " [ 1 13  4 15 12]\n",
      " [10 11 14  9  3]\n",
      " [15 13 10  7  6]\n",
      " [19  6 11 11 15]\n",
      " [15  9  8  1 19]]\n"
     ]
    }
   ],
   "source": [
    "# To Do 1 - Print those rows of X whose indices are represented by entire row_indices ndarray\n",
    "# Hint - Use the row_indices ndarray to select specified rows of X\n",
    "X_subset = X[row_indices, :]\n",
    "print(X_subset)"
   ]
  },
  {
   "cell_type": "code",
   "execution_count": 47,
   "id": "498372ce",
   "metadata": {},
   "outputs": [
    {
     "name": "stdout",
     "output_type": "stream",
     "text": [
      "[[17  5  9  3  6]\n",
      " [ 1 13  4 15 12]\n",
      " [10 11 14  9  3]\n",
      " [15 13 10  7  6]]\n"
     ]
    }
   ],
   "source": [
    "# To Do 2 - Print those rows of X whose indices are present in row_indices[4:8]\n",
    "X_subset = X[row_indices[4:8], :]\n",
    "print(X_subset)"
   ]
  },
  {
   "cell_type": "markdown",
   "id": "5299b12c",
   "metadata": {},
   "source": [
    "### np.diag(ndarray, k=N)"
   ]
  },
  {
   "cell_type": "code",
   "execution_count": 49,
   "id": "efde3557",
   "metadata": {},
   "outputs": [
    {
     "name": "stdout",
     "output_type": "stream",
     "text": [
      "[[ 0  1  2  3  4]\n",
      " [ 5  6  7  8  9]\n",
      " [10 11 12 13 14]\n",
      " [15 16 17 18 19]\n",
      " [20 21 22 23 24]]\n"
     ]
    }
   ],
   "source": [
    "# We create a 4 x 5 ndarray that contains integers from 0 to 24\n",
    "X = np.arange(25).reshape(5, 5)\n",
    "print(X)"
   ]
  },
  {
   "cell_type": "code",
   "execution_count": 51,
   "id": "25437cbf",
   "metadata": {},
   "outputs": [
    {
     "name": "stdout",
     "output_type": "stream",
     "text": [
      "z = [ 0  6 12 18 24]\n"
     ]
    }
   ],
   "source": [
    "# We print the elements in the main diagonal of X\n",
    "print('z =', np.diag(X))"
   ]
  },
  {
   "cell_type": "code",
   "execution_count": 52,
   "id": "7e891bd3",
   "metadata": {},
   "outputs": [
    {
     "name": "stdout",
     "output_type": "stream",
     "text": [
      "y = [ 1  7 13 19]\n"
     ]
    }
   ],
   "source": [
    "# We print the elements above the main diagonal of X\n",
    "print('y =', np.diag(X, k=1))"
   ]
  },
  {
   "cell_type": "code",
   "execution_count": 53,
   "id": "efbfada5",
   "metadata": {},
   "outputs": [
    {
     "name": "stdout",
     "output_type": "stream",
     "text": [
      "y = [3 9]\n"
     ]
    }
   ],
   "source": [
    "# We print the elements above the main diagonal of X\n",
    "print('y =', np.diag(X, k=3))"
   ]
  },
  {
   "cell_type": "code",
   "execution_count": 54,
   "id": "715e5e24",
   "metadata": {},
   "outputs": [
    {
     "name": "stdout",
     "output_type": "stream",
     "text": [
      "w =  [ 5 11 17 23]\n"
     ]
    }
   ],
   "source": [
    "# We print the elements below the main diagonal of X\n",
    "print('w = ', np.diag(X, k=-1))"
   ]
  },
  {
   "cell_type": "code",
   "execution_count": 55,
   "id": "9e575721",
   "metadata": {},
   "outputs": [
    {
     "name": "stdout",
     "output_type": "stream",
     "text": [
      "w =  [20]\n"
     ]
    }
   ],
   "source": [
    "# We print the elements below the main diagonal of X\n",
    "print('w = ', np.diag(X, k=-4))"
   ]
  },
  {
   "cell_type": "markdown",
   "id": "f11fd242",
   "metadata": {},
   "source": [
    "### np.unique(array, return_index=False, return_inverse=False, return_counts=False, axis=None)"
   ]
  },
  {
   "cell_type": "code",
   "execution_count": 56,
   "id": "3bd301d8",
   "metadata": {},
   "outputs": [
    {
     "name": "stdout",
     "output_type": "stream",
     "text": [
      "[[1 2 3]\n",
      " [5 2 8]\n",
      " [1 2 3]]\n"
     ]
    }
   ],
   "source": [
    "# Create 3 x 3 ndarray with repeated values\n",
    "X = np.array([[1,2,3],[5,2,8],[1,2,3]])\n",
    "print(X)"
   ]
  },
  {
   "cell_type": "code",
   "execution_count": 57,
   "id": "21b624bc",
   "metadata": {},
   "outputs": [
    {
     "name": "stdout",
     "output_type": "stream",
     "text": [
      "The unique elements in X are: [1 2 3 5 8]\n"
     ]
    }
   ],
   "source": [
    "# We print the unique elements of X \n",
    "print('The unique elements in X are:',np.unique(X))"
   ]
  },
  {
   "cell_type": "code",
   "execution_count": null,
   "id": "142d917c",
   "metadata": {},
   "outputs": [],
   "source": []
  }
 ],
 "metadata": {
  "kernelspec": {
   "display_name": "Python 3 (ipykernel)",
   "language": "python",
   "name": "python3"
  },
  "language_info": {
   "codemirror_mode": {
    "name": "ipython",
    "version": 3
   },
   "file_extension": ".py",
   "mimetype": "text/x-python",
   "name": "python",
   "nbconvert_exporter": "python",
   "pygments_lexer": "ipython3",
   "version": "3.10.4"
  }
 },
 "nbformat": 4,
 "nbformat_minor": 5
}
