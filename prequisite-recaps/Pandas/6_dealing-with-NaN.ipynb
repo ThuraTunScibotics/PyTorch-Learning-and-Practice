{
 "cells": [
  {
   "cell_type": "markdown",
   "id": "ffb76827",
   "metadata": {},
   "source": [
    "## Dealing with NaN"
   ]
  },
  {
   "cell_type": "code",
   "execution_count": 2,
   "id": "1d44061f",
   "metadata": {},
   "outputs": [],
   "source": [
    "import pandas as pd"
   ]
  },
  {
   "cell_type": "markdown",
   "id": "2fea60db",
   "metadata": {},
   "source": [
    "### Create a DataFrame"
   ]
  },
  {
   "cell_type": "code",
   "execution_count": 3,
   "id": "21edf247",
   "metadata": {},
   "outputs": [
    {
     "data": {
      "text/html": [
       "<div>\n",
       "<style scoped>\n",
       "    .dataframe tbody tr th:only-of-type {\n",
       "        vertical-align: middle;\n",
       "    }\n",
       "\n",
       "    .dataframe tbody tr th {\n",
       "        vertical-align: top;\n",
       "    }\n",
       "\n",
       "    .dataframe thead th {\n",
       "        text-align: right;\n",
       "    }\n",
       "</style>\n",
       "<table border=\"1\" class=\"dataframe\">\n",
       "  <thead>\n",
       "    <tr style=\"text-align: right;\">\n",
       "      <th></th>\n",
       "      <th>bikes</th>\n",
       "      <th>pants</th>\n",
       "      <th>watches</th>\n",
       "      <th>shirts</th>\n",
       "      <th>shoes</th>\n",
       "      <th>suits</th>\n",
       "      <th>glasses</th>\n",
       "    </tr>\n",
       "  </thead>\n",
       "  <tbody>\n",
       "    <tr>\n",
       "      <th>store 1</th>\n",
       "      <td>20</td>\n",
       "      <td>30</td>\n",
       "      <td>35</td>\n",
       "      <td>15.0</td>\n",
       "      <td>8</td>\n",
       "      <td>45.0</td>\n",
       "      <td>NaN</td>\n",
       "    </tr>\n",
       "    <tr>\n",
       "      <th>store 2</th>\n",
       "      <td>15</td>\n",
       "      <td>5</td>\n",
       "      <td>10</td>\n",
       "      <td>2.0</td>\n",
       "      <td>5</td>\n",
       "      <td>7.0</td>\n",
       "      <td>50.0</td>\n",
       "    </tr>\n",
       "    <tr>\n",
       "      <th>store 3</th>\n",
       "      <td>20</td>\n",
       "      <td>30</td>\n",
       "      <td>35</td>\n",
       "      <td>NaN</td>\n",
       "      <td>10</td>\n",
       "      <td>NaN</td>\n",
       "      <td>4.0</td>\n",
       "    </tr>\n",
       "  </tbody>\n",
       "</table>\n",
       "</div>"
      ],
      "text/plain": [
       "         bikes  pants  watches  shirts  shoes  suits  glasses\n",
       "store 1     20     30       35    15.0      8   45.0      NaN\n",
       "store 2     15      5       10     2.0      5    7.0     50.0\n",
       "store 3     20     30       35     NaN     10    NaN      4.0"
      ]
     },
     "execution_count": 3,
     "metadata": {},
     "output_type": "execute_result"
    }
   ],
   "source": [
    "# We create a list of Python dictionaries\n",
    "items2 = [{'bikes': 20, 'pants': 30, 'watches': 35, 'shirts': 15, 'shoes':8, 'suits':45},\n",
    "{'watches': 10, 'glasses': 50, 'bikes': 15, 'pants':5, 'shirts': 2, 'shoes':5, 'suits':7},\n",
    "{'bikes': 20, 'pants': 30, 'watches': 35, 'glasses': 4, 'shoes':10}]\n",
    "\n",
    "# We create a DataFrame  and provide the row index\n",
    "store_items = pd.DataFrame(items2, index = ['store 1', 'store 2', 'store 3'])\n",
    "\n",
    "# We display the DataFrame\n",
    "store_items"
   ]
  },
  {
   "cell_type": "markdown",
   "id": "3b0b2d7f",
   "metadata": {},
   "source": [
    "### Return boolean True/False for each element if it is a NaN"
   ]
  },
  {
   "cell_type": "code",
   "execution_count": 7,
   "id": "550259c3",
   "metadata": {},
   "outputs": [
    {
     "data": {
      "text/html": [
       "<div>\n",
       "<style scoped>\n",
       "    .dataframe tbody tr th:only-of-type {\n",
       "        vertical-align: middle;\n",
       "    }\n",
       "\n",
       "    .dataframe tbody tr th {\n",
       "        vertical-align: top;\n",
       "    }\n",
       "\n",
       "    .dataframe thead th {\n",
       "        text-align: right;\n",
       "    }\n",
       "</style>\n",
       "<table border=\"1\" class=\"dataframe\">\n",
       "  <thead>\n",
       "    <tr style=\"text-align: right;\">\n",
       "      <th></th>\n",
       "      <th>bikes</th>\n",
       "      <th>pants</th>\n",
       "      <th>watches</th>\n",
       "      <th>shirts</th>\n",
       "      <th>shoes</th>\n",
       "      <th>suits</th>\n",
       "      <th>glasses</th>\n",
       "    </tr>\n",
       "  </thead>\n",
       "  <tbody>\n",
       "    <tr>\n",
       "      <th>store 1</th>\n",
       "      <td>False</td>\n",
       "      <td>False</td>\n",
       "      <td>False</td>\n",
       "      <td>False</td>\n",
       "      <td>False</td>\n",
       "      <td>False</td>\n",
       "      <td>True</td>\n",
       "    </tr>\n",
       "    <tr>\n",
       "      <th>store 2</th>\n",
       "      <td>False</td>\n",
       "      <td>False</td>\n",
       "      <td>False</td>\n",
       "      <td>False</td>\n",
       "      <td>False</td>\n",
       "      <td>False</td>\n",
       "      <td>False</td>\n",
       "    </tr>\n",
       "    <tr>\n",
       "      <th>store 3</th>\n",
       "      <td>False</td>\n",
       "      <td>False</td>\n",
       "      <td>False</td>\n",
       "      <td>True</td>\n",
       "      <td>False</td>\n",
       "      <td>True</td>\n",
       "      <td>False</td>\n",
       "    </tr>\n",
       "  </tbody>\n",
       "</table>\n",
       "</div>"
      ],
      "text/plain": [
       "         bikes  pants  watches  shirts  shoes  suits  glasses\n",
       "store 1  False  False    False   False  False  False     True\n",
       "store 2  False  False    False   False  False  False    False\n",
       "store 3  False  False    False    True  False   True    False"
      ]
     },
     "execution_count": 7,
     "metadata": {},
     "output_type": "execute_result"
    }
   ],
   "source": [
    "store_items.isnull()"
   ]
  },
  {
   "cell_type": "markdown",
   "id": "e16ca9f6",
   "metadata": {},
   "source": [
    "### Count NaN down the column"
   ]
  },
  {
   "cell_type": "code",
   "execution_count": 8,
   "id": "0da6c362",
   "metadata": {},
   "outputs": [
    {
     "data": {
      "text/plain": [
       "bikes      0\n",
       "pants      0\n",
       "watches    0\n",
       "shirts     1\n",
       "shoes      0\n",
       "suits      1\n",
       "glasses    1\n",
       "dtype: int64"
      ]
     },
     "execution_count": 8,
     "metadata": {},
     "output_type": "execute_result"
    }
   ],
   "source": [
    "store_items.isnull().sum()"
   ]
  },
  {
   "cell_type": "markdown",
   "id": "d37bc08d",
   "metadata": {},
   "source": [
    "### Count the total NaN values"
   ]
  },
  {
   "cell_type": "code",
   "execution_count": 9,
   "id": "5b385cdc",
   "metadata": {},
   "outputs": [
    {
     "name": "stdout",
     "output_type": "stream",
     "text": [
      "Number of NaN values in our DataFrame: 3\n"
     ]
    }
   ],
   "source": [
    "# We count the number of NaN values in store_items\n",
    "x =  store_items.isnull().sum().sum()\n",
    "\n",
    "# We print x\n",
    "print('Number of NaN values in our DataFrame:', x)"
   ]
  },
  {
   "cell_type": "markdown",
   "id": "18a13ac8",
   "metadata": {},
   "source": [
    "### Count the total non-NaN values\n",
    "Instead of counting the number of `NaN` values we can also do the opposite, we can count the number of `non-NaN` values. We can do this by using the `.count()` method as shown below:"
   ]
  },
  {
   "cell_type": "code",
   "execution_count": 10,
   "id": "9e39e9ef",
   "metadata": {},
   "outputs": [
    {
     "name": "stdout",
     "output_type": "stream",
     "text": [
      "Number of non-NaN values in the columns of our DataFrame:\n",
      " bikes      3\n",
      "pants      3\n",
      "watches    3\n",
      "shirts     2\n",
      "shoes      3\n",
      "suits      2\n",
      "glasses    2\n",
      "dtype: int64\n"
     ]
    }
   ],
   "source": [
    "# We print the number of non-NaN values in our DataFrame\n",
    "print('Number of non-NaN values in the columns of our DataFrame:\\n', store_items.count())"
   ]
  },
  {
   "cell_type": "markdown",
   "id": "8fcd9d32",
   "metadata": {},
   "source": [
    "### Eliminating NaN Values"
   ]
  },
  {
   "cell_type": "markdown",
   "id": "79b184ea",
   "metadata": {},
   "source": [
    "### Drop rows having NaN values"
   ]
  },
  {
   "cell_type": "code",
   "execution_count": 11,
   "id": "a523c805",
   "metadata": {},
   "outputs": [
    {
     "data": {
      "text/html": [
       "<div>\n",
       "<style scoped>\n",
       "    .dataframe tbody tr th:only-of-type {\n",
       "        vertical-align: middle;\n",
       "    }\n",
       "\n",
       "    .dataframe tbody tr th {\n",
       "        vertical-align: top;\n",
       "    }\n",
       "\n",
       "    .dataframe thead th {\n",
       "        text-align: right;\n",
       "    }\n",
       "</style>\n",
       "<table border=\"1\" class=\"dataframe\">\n",
       "  <thead>\n",
       "    <tr style=\"text-align: right;\">\n",
       "      <th></th>\n",
       "      <th>bikes</th>\n",
       "      <th>pants</th>\n",
       "      <th>watches</th>\n",
       "      <th>shirts</th>\n",
       "      <th>shoes</th>\n",
       "      <th>suits</th>\n",
       "      <th>glasses</th>\n",
       "    </tr>\n",
       "  </thead>\n",
       "  <tbody>\n",
       "    <tr>\n",
       "      <th>store 2</th>\n",
       "      <td>15</td>\n",
       "      <td>5</td>\n",
       "      <td>10</td>\n",
       "      <td>2.0</td>\n",
       "      <td>5</td>\n",
       "      <td>7.0</td>\n",
       "      <td>50.0</td>\n",
       "    </tr>\n",
       "  </tbody>\n",
       "</table>\n",
       "</div>"
      ],
      "text/plain": [
       "         bikes  pants  watches  shirts  shoes  suits  glasses\n",
       "store 2     15      5       10     2.0      5    7.0     50.0"
      ]
     },
     "execution_count": 11,
     "metadata": {},
     "output_type": "execute_result"
    }
   ],
   "source": [
    "# We drop any rows with NaN values\n",
    "store_items.dropna(axis = 0)"
   ]
  },
  {
   "cell_type": "markdown",
   "id": "b11a8f5e",
   "metadata": {},
   "source": [
    "### Drop columns having NaN values"
   ]
  },
  {
   "cell_type": "code",
   "execution_count": 12,
   "id": "b51b7f60",
   "metadata": {},
   "outputs": [
    {
     "data": {
      "text/html": [
       "<div>\n",
       "<style scoped>\n",
       "    .dataframe tbody tr th:only-of-type {\n",
       "        vertical-align: middle;\n",
       "    }\n",
       "\n",
       "    .dataframe tbody tr th {\n",
       "        vertical-align: top;\n",
       "    }\n",
       "\n",
       "    .dataframe thead th {\n",
       "        text-align: right;\n",
       "    }\n",
       "</style>\n",
       "<table border=\"1\" class=\"dataframe\">\n",
       "  <thead>\n",
       "    <tr style=\"text-align: right;\">\n",
       "      <th></th>\n",
       "      <th>bikes</th>\n",
       "      <th>pants</th>\n",
       "      <th>watches</th>\n",
       "      <th>shoes</th>\n",
       "    </tr>\n",
       "  </thead>\n",
       "  <tbody>\n",
       "    <tr>\n",
       "      <th>store 1</th>\n",
       "      <td>20</td>\n",
       "      <td>30</td>\n",
       "      <td>35</td>\n",
       "      <td>8</td>\n",
       "    </tr>\n",
       "    <tr>\n",
       "      <th>store 2</th>\n",
       "      <td>15</td>\n",
       "      <td>5</td>\n",
       "      <td>10</td>\n",
       "      <td>5</td>\n",
       "    </tr>\n",
       "    <tr>\n",
       "      <th>store 3</th>\n",
       "      <td>20</td>\n",
       "      <td>30</td>\n",
       "      <td>35</td>\n",
       "      <td>10</td>\n",
       "    </tr>\n",
       "  </tbody>\n",
       "</table>\n",
       "</div>"
      ],
      "text/plain": [
       "         bikes  pants  watches  shoes\n",
       "store 1     20     30       35      8\n",
       "store 2     15      5       10      5\n",
       "store 3     20     30       35     10"
      ]
     },
     "execution_count": 12,
     "metadata": {},
     "output_type": "execute_result"
    }
   ],
   "source": [
    "# We drop any columns with NaN values\n",
    "store_items.dropna(axis = 1)"
   ]
  },
  {
   "cell_type": "markdown",
   "id": "e1574f68",
   "metadata": {},
   "source": [
    "**NOTE** that the `.dropna()` method eliminates (drops) the rows or columns with `NaN` values *out of place*. This means that the original DataFrame *is not modified*. You can always remove the desired rows or columns in place by setting the keyword `inplace = True` inside the `dropna()` function."
   ]
  },
  {
   "cell_type": "markdown",
   "id": "d85345fb",
   "metadata": {},
   "source": [
    "\n",
    "### Substituting NaN Values\n",
    "### Replace NaN with 0"
   ]
  },
  {
   "cell_type": "code",
   "execution_count": 13,
   "id": "1fa52565",
   "metadata": {},
   "outputs": [
    {
     "data": {
      "text/html": [
       "<div>\n",
       "<style scoped>\n",
       "    .dataframe tbody tr th:only-of-type {\n",
       "        vertical-align: middle;\n",
       "    }\n",
       "\n",
       "    .dataframe tbody tr th {\n",
       "        vertical-align: top;\n",
       "    }\n",
       "\n",
       "    .dataframe thead th {\n",
       "        text-align: right;\n",
       "    }\n",
       "</style>\n",
       "<table border=\"1\" class=\"dataframe\">\n",
       "  <thead>\n",
       "    <tr style=\"text-align: right;\">\n",
       "      <th></th>\n",
       "      <th>bikes</th>\n",
       "      <th>pants</th>\n",
       "      <th>watches</th>\n",
       "      <th>shirts</th>\n",
       "      <th>shoes</th>\n",
       "      <th>suits</th>\n",
       "      <th>glasses</th>\n",
       "    </tr>\n",
       "  </thead>\n",
       "  <tbody>\n",
       "    <tr>\n",
       "      <th>store 1</th>\n",
       "      <td>20</td>\n",
       "      <td>30</td>\n",
       "      <td>35</td>\n",
       "      <td>15.0</td>\n",
       "      <td>8</td>\n",
       "      <td>45.0</td>\n",
       "      <td>0.0</td>\n",
       "    </tr>\n",
       "    <tr>\n",
       "      <th>store 2</th>\n",
       "      <td>15</td>\n",
       "      <td>5</td>\n",
       "      <td>10</td>\n",
       "      <td>2.0</td>\n",
       "      <td>5</td>\n",
       "      <td>7.0</td>\n",
       "      <td>50.0</td>\n",
       "    </tr>\n",
       "    <tr>\n",
       "      <th>store 3</th>\n",
       "      <td>20</td>\n",
       "      <td>30</td>\n",
       "      <td>35</td>\n",
       "      <td>0.0</td>\n",
       "      <td>10</td>\n",
       "      <td>0.0</td>\n",
       "      <td>4.0</td>\n",
       "    </tr>\n",
       "  </tbody>\n",
       "</table>\n",
       "</div>"
      ],
      "text/plain": [
       "         bikes  pants  watches  shirts  shoes  suits  glasses\n",
       "store 1     20     30       35    15.0      8   45.0      0.0\n",
       "store 2     15      5       10     2.0      5    7.0     50.0\n",
       "store 3     20     30       35     0.0     10    0.0      4.0"
      ]
     },
     "execution_count": 13,
     "metadata": {},
     "output_type": "execute_result"
    }
   ],
   "source": [
    "# We replace all NaN values with 0\n",
    "store_items.fillna(0)"
   ]
  },
  {
   "cell_type": "markdown",
   "id": "8cc5fa71",
   "metadata": {},
   "source": [
    "### Forward fill NaN values down (axis = 0) the dataframe\n",
    "We can also use the `.fillna()` method to replace `NaN` values with previous values in the DataFrame, this is known as forward filling. When replacing NaN values with forward filling, we can use previous values taken from columns or rows. The `.fillna(method = 'ffill', axis)` will use the forward filling (ffill) method to replace NaN values using the previous known value along the given axis. Let's see some examples:"
   ]
  },
  {
   "cell_type": "code",
   "execution_count": 15,
   "id": "508bec83",
   "metadata": {},
   "outputs": [
    {
     "data": {
      "text/html": [
       "<div>\n",
       "<style scoped>\n",
       "    .dataframe tbody tr th:only-of-type {\n",
       "        vertical-align: middle;\n",
       "    }\n",
       "\n",
       "    .dataframe tbody tr th {\n",
       "        vertical-align: top;\n",
       "    }\n",
       "\n",
       "    .dataframe thead th {\n",
       "        text-align: right;\n",
       "    }\n",
       "</style>\n",
       "<table border=\"1\" class=\"dataframe\">\n",
       "  <thead>\n",
       "    <tr style=\"text-align: right;\">\n",
       "      <th></th>\n",
       "      <th>bikes</th>\n",
       "      <th>pants</th>\n",
       "      <th>watches</th>\n",
       "      <th>shirts</th>\n",
       "      <th>shoes</th>\n",
       "      <th>suits</th>\n",
       "      <th>glasses</th>\n",
       "    </tr>\n",
       "  </thead>\n",
       "  <tbody>\n",
       "    <tr>\n",
       "      <th>store 1</th>\n",
       "      <td>20</td>\n",
       "      <td>30</td>\n",
       "      <td>35</td>\n",
       "      <td>15.0</td>\n",
       "      <td>8</td>\n",
       "      <td>45.0</td>\n",
       "      <td>NaN</td>\n",
       "    </tr>\n",
       "    <tr>\n",
       "      <th>store 2</th>\n",
       "      <td>15</td>\n",
       "      <td>5</td>\n",
       "      <td>10</td>\n",
       "      <td>2.0</td>\n",
       "      <td>5</td>\n",
       "      <td>7.0</td>\n",
       "      <td>50.0</td>\n",
       "    </tr>\n",
       "    <tr>\n",
       "      <th>store 3</th>\n",
       "      <td>20</td>\n",
       "      <td>30</td>\n",
       "      <td>35</td>\n",
       "      <td>2.0</td>\n",
       "      <td>10</td>\n",
       "      <td>7.0</td>\n",
       "      <td>4.0</td>\n",
       "    </tr>\n",
       "  </tbody>\n",
       "</table>\n",
       "</div>"
      ],
      "text/plain": [
       "         bikes  pants  watches  shirts  shoes  suits  glasses\n",
       "store 1     20     30       35    15.0      8   45.0      NaN\n",
       "store 2     15      5       10     2.0      5    7.0     50.0\n",
       "store 3     20     30       35     2.0     10    7.0      4.0"
      ]
     },
     "execution_count": 15,
     "metadata": {},
     "output_type": "execute_result"
    }
   ],
   "source": [
    "# We replace NaN values with the previous value in the column\n",
    "store_items.fillna(method = 'ffill', axis = 0)"
   ]
  },
  {
   "cell_type": "markdown",
   "id": "b959db70",
   "metadata": {},
   "source": [
    "### Forward fill NaN values across (axis = 1) the dataframe"
   ]
  },
  {
   "cell_type": "code",
   "execution_count": 16,
   "id": "061457ad",
   "metadata": {},
   "outputs": [
    {
     "data": {
      "text/html": [
       "<div>\n",
       "<style scoped>\n",
       "    .dataframe tbody tr th:only-of-type {\n",
       "        vertical-align: middle;\n",
       "    }\n",
       "\n",
       "    .dataframe tbody tr th {\n",
       "        vertical-align: top;\n",
       "    }\n",
       "\n",
       "    .dataframe thead th {\n",
       "        text-align: right;\n",
       "    }\n",
       "</style>\n",
       "<table border=\"1\" class=\"dataframe\">\n",
       "  <thead>\n",
       "    <tr style=\"text-align: right;\">\n",
       "      <th></th>\n",
       "      <th>bikes</th>\n",
       "      <th>pants</th>\n",
       "      <th>watches</th>\n",
       "      <th>shirts</th>\n",
       "      <th>shoes</th>\n",
       "      <th>suits</th>\n",
       "      <th>glasses</th>\n",
       "    </tr>\n",
       "  </thead>\n",
       "  <tbody>\n",
       "    <tr>\n",
       "      <th>store 1</th>\n",
       "      <td>20.0</td>\n",
       "      <td>30.0</td>\n",
       "      <td>35.0</td>\n",
       "      <td>15.0</td>\n",
       "      <td>8.0</td>\n",
       "      <td>45.0</td>\n",
       "      <td>45.0</td>\n",
       "    </tr>\n",
       "    <tr>\n",
       "      <th>store 2</th>\n",
       "      <td>15.0</td>\n",
       "      <td>5.0</td>\n",
       "      <td>10.0</td>\n",
       "      <td>2.0</td>\n",
       "      <td>5.0</td>\n",
       "      <td>7.0</td>\n",
       "      <td>50.0</td>\n",
       "    </tr>\n",
       "    <tr>\n",
       "      <th>store 3</th>\n",
       "      <td>20.0</td>\n",
       "      <td>30.0</td>\n",
       "      <td>35.0</td>\n",
       "      <td>35.0</td>\n",
       "      <td>10.0</td>\n",
       "      <td>10.0</td>\n",
       "      <td>4.0</td>\n",
       "    </tr>\n",
       "  </tbody>\n",
       "</table>\n",
       "</div>"
      ],
      "text/plain": [
       "         bikes  pants  watches  shirts  shoes  suits  glasses\n",
       "store 1   20.0   30.0     35.0    15.0    8.0   45.0     45.0\n",
       "store 2   15.0    5.0     10.0     2.0    5.0    7.0     50.0\n",
       "store 3   20.0   30.0     35.0    35.0   10.0   10.0      4.0"
      ]
     },
     "execution_count": 16,
     "metadata": {},
     "output_type": "execute_result"
    }
   ],
   "source": [
    "# We replace NaN values with the previous value in the row\n",
    "store_items.fillna(method = 'ffill', axis = 1)"
   ]
  },
  {
   "cell_type": "markdown",
   "id": "452fa360",
   "metadata": {},
   "source": [
    "### Backward fill NaN values down (axis = 0) the dataframe"
   ]
  },
  {
   "cell_type": "code",
   "execution_count": 17,
   "id": "e360d9fd",
   "metadata": {},
   "outputs": [
    {
     "data": {
      "text/html": [
       "<div>\n",
       "<style scoped>\n",
       "    .dataframe tbody tr th:only-of-type {\n",
       "        vertical-align: middle;\n",
       "    }\n",
       "\n",
       "    .dataframe tbody tr th {\n",
       "        vertical-align: top;\n",
       "    }\n",
       "\n",
       "    .dataframe thead th {\n",
       "        text-align: right;\n",
       "    }\n",
       "</style>\n",
       "<table border=\"1\" class=\"dataframe\">\n",
       "  <thead>\n",
       "    <tr style=\"text-align: right;\">\n",
       "      <th></th>\n",
       "      <th>bikes</th>\n",
       "      <th>pants</th>\n",
       "      <th>watches</th>\n",
       "      <th>shirts</th>\n",
       "      <th>shoes</th>\n",
       "      <th>suits</th>\n",
       "      <th>glasses</th>\n",
       "    </tr>\n",
       "  </thead>\n",
       "  <tbody>\n",
       "    <tr>\n",
       "      <th>store 1</th>\n",
       "      <td>20</td>\n",
       "      <td>30</td>\n",
       "      <td>35</td>\n",
       "      <td>15.0</td>\n",
       "      <td>8</td>\n",
       "      <td>45.0</td>\n",
       "      <td>50.0</td>\n",
       "    </tr>\n",
       "    <tr>\n",
       "      <th>store 2</th>\n",
       "      <td>15</td>\n",
       "      <td>5</td>\n",
       "      <td>10</td>\n",
       "      <td>2.0</td>\n",
       "      <td>5</td>\n",
       "      <td>7.0</td>\n",
       "      <td>50.0</td>\n",
       "    </tr>\n",
       "    <tr>\n",
       "      <th>store 3</th>\n",
       "      <td>20</td>\n",
       "      <td>30</td>\n",
       "      <td>35</td>\n",
       "      <td>NaN</td>\n",
       "      <td>10</td>\n",
       "      <td>NaN</td>\n",
       "      <td>4.0</td>\n",
       "    </tr>\n",
       "  </tbody>\n",
       "</table>\n",
       "</div>"
      ],
      "text/plain": [
       "         bikes  pants  watches  shirts  shoes  suits  glasses\n",
       "store 1     20     30       35    15.0      8   45.0     50.0\n",
       "store 2     15      5       10     2.0      5    7.0     50.0\n",
       "store 3     20     30       35     NaN     10    NaN      4.0"
      ]
     },
     "execution_count": 17,
     "metadata": {},
     "output_type": "execute_result"
    }
   ],
   "source": [
    "# We replace NaN values with the next value in the column\n",
    "store_items.fillna(method = 'backfill', axis = 0)"
   ]
  },
  {
   "cell_type": "markdown",
   "id": "c87d558c",
   "metadata": {},
   "source": [
    "### Backward fill NaN values across (axis = 1) the dataframe"
   ]
  },
  {
   "cell_type": "code",
   "execution_count": 18,
   "id": "c45de3eb",
   "metadata": {},
   "outputs": [
    {
     "data": {
      "text/html": [
       "<div>\n",
       "<style scoped>\n",
       "    .dataframe tbody tr th:only-of-type {\n",
       "        vertical-align: middle;\n",
       "    }\n",
       "\n",
       "    .dataframe tbody tr th {\n",
       "        vertical-align: top;\n",
       "    }\n",
       "\n",
       "    .dataframe thead th {\n",
       "        text-align: right;\n",
       "    }\n",
       "</style>\n",
       "<table border=\"1\" class=\"dataframe\">\n",
       "  <thead>\n",
       "    <tr style=\"text-align: right;\">\n",
       "      <th></th>\n",
       "      <th>bikes</th>\n",
       "      <th>pants</th>\n",
       "      <th>watches</th>\n",
       "      <th>shirts</th>\n",
       "      <th>shoes</th>\n",
       "      <th>suits</th>\n",
       "      <th>glasses</th>\n",
       "    </tr>\n",
       "  </thead>\n",
       "  <tbody>\n",
       "    <tr>\n",
       "      <th>store 1</th>\n",
       "      <td>20.0</td>\n",
       "      <td>30.0</td>\n",
       "      <td>35.0</td>\n",
       "      <td>15.0</td>\n",
       "      <td>8.0</td>\n",
       "      <td>45.0</td>\n",
       "      <td>NaN</td>\n",
       "    </tr>\n",
       "    <tr>\n",
       "      <th>store 2</th>\n",
       "      <td>15.0</td>\n",
       "      <td>5.0</td>\n",
       "      <td>10.0</td>\n",
       "      <td>2.0</td>\n",
       "      <td>5.0</td>\n",
       "      <td>7.0</td>\n",
       "      <td>50.0</td>\n",
       "    </tr>\n",
       "    <tr>\n",
       "      <th>store 3</th>\n",
       "      <td>20.0</td>\n",
       "      <td>30.0</td>\n",
       "      <td>35.0</td>\n",
       "      <td>10.0</td>\n",
       "      <td>10.0</td>\n",
       "      <td>4.0</td>\n",
       "      <td>4.0</td>\n",
       "    </tr>\n",
       "  </tbody>\n",
       "</table>\n",
       "</div>"
      ],
      "text/plain": [
       "         bikes  pants  watches  shirts  shoes  suits  glasses\n",
       "store 1   20.0   30.0     35.0    15.0    8.0   45.0      NaN\n",
       "store 2   15.0    5.0     10.0     2.0    5.0    7.0     50.0\n",
       "store 3   20.0   30.0     35.0    10.0   10.0    4.0      4.0"
      ]
     },
     "execution_count": 18,
     "metadata": {},
     "output_type": "execute_result"
    }
   ],
   "source": [
    "# We replace NaN values with the next value in the row\n",
    "store_items.fillna(method = 'backfill', axis = 1)"
   ]
  },
  {
   "cell_type": "markdown",
   "id": "a28475f6",
   "metadata": {},
   "source": [
    "**Notice** that the `.fillna()` method replaces (fills) the `NaN` values *out of place*. This means that the original DataFrame *is not modified*. You can always replace the NaN values in place by setting the keyword `inplace = True` inside the fillna() function"
   ]
  },
  {
   "cell_type": "markdown",
   "id": "db615815",
   "metadata": {},
   "source": [
    "###  Interpolate (estimate) NaN values down (axis = 0) the dataframe\n",
    "We can also choose to replace `NaN` values by using different interpolation methods. For example, the `.interpolate(method = 'linear', axis)` method will use `linear` interpolation to replace NaN values using the values along the given axis. Let's see some examples:"
   ]
  },
  {
   "cell_type": "code",
   "execution_count": 20,
   "id": "b447cb46",
   "metadata": {},
   "outputs": [
    {
     "data": {
      "text/html": [
       "<div>\n",
       "<style scoped>\n",
       "    .dataframe tbody tr th:only-of-type {\n",
       "        vertical-align: middle;\n",
       "    }\n",
       "\n",
       "    .dataframe tbody tr th {\n",
       "        vertical-align: top;\n",
       "    }\n",
       "\n",
       "    .dataframe thead th {\n",
       "        text-align: right;\n",
       "    }\n",
       "</style>\n",
       "<table border=\"1\" class=\"dataframe\">\n",
       "  <thead>\n",
       "    <tr style=\"text-align: right;\">\n",
       "      <th></th>\n",
       "      <th>bikes</th>\n",
       "      <th>pants</th>\n",
       "      <th>watches</th>\n",
       "      <th>shirts</th>\n",
       "      <th>shoes</th>\n",
       "      <th>suits</th>\n",
       "      <th>glasses</th>\n",
       "    </tr>\n",
       "  </thead>\n",
       "  <tbody>\n",
       "    <tr>\n",
       "      <th>store 1</th>\n",
       "      <td>20</td>\n",
       "      <td>30</td>\n",
       "      <td>35</td>\n",
       "      <td>15.0</td>\n",
       "      <td>8</td>\n",
       "      <td>45.0</td>\n",
       "      <td>NaN</td>\n",
       "    </tr>\n",
       "    <tr>\n",
       "      <th>store 2</th>\n",
       "      <td>15</td>\n",
       "      <td>5</td>\n",
       "      <td>10</td>\n",
       "      <td>2.0</td>\n",
       "      <td>5</td>\n",
       "      <td>7.0</td>\n",
       "      <td>50.0</td>\n",
       "    </tr>\n",
       "    <tr>\n",
       "      <th>store 3</th>\n",
       "      <td>20</td>\n",
       "      <td>30</td>\n",
       "      <td>35</td>\n",
       "      <td>2.0</td>\n",
       "      <td>10</td>\n",
       "      <td>7.0</td>\n",
       "      <td>4.0</td>\n",
       "    </tr>\n",
       "  </tbody>\n",
       "</table>\n",
       "</div>"
      ],
      "text/plain": [
       "         bikes  pants  watches  shirts  shoes  suits  glasses\n",
       "store 1     20     30       35    15.0      8   45.0      NaN\n",
       "store 2     15      5       10     2.0      5    7.0     50.0\n",
       "store 3     20     30       35     2.0     10    7.0      4.0"
      ]
     },
     "execution_count": 20,
     "metadata": {},
     "output_type": "execute_result"
    }
   ],
   "source": [
    "# We replace NaN values by using linear interpolation using column values\n",
    "store_items.interpolate(method = 'linear', axis = 0)"
   ]
  },
  {
   "cell_type": "markdown",
   "id": "e8db28bb",
   "metadata": {},
   "source": [
    "### Interpolate (estimate) NaN values across (axis = 1) the dataframe"
   ]
  },
  {
   "cell_type": "code",
   "execution_count": 21,
   "id": "8f26b635",
   "metadata": {},
   "outputs": [
    {
     "data": {
      "text/html": [
       "<div>\n",
       "<style scoped>\n",
       "    .dataframe tbody tr th:only-of-type {\n",
       "        vertical-align: middle;\n",
       "    }\n",
       "\n",
       "    .dataframe tbody tr th {\n",
       "        vertical-align: top;\n",
       "    }\n",
       "\n",
       "    .dataframe thead th {\n",
       "        text-align: right;\n",
       "    }\n",
       "</style>\n",
       "<table border=\"1\" class=\"dataframe\">\n",
       "  <thead>\n",
       "    <tr style=\"text-align: right;\">\n",
       "      <th></th>\n",
       "      <th>bikes</th>\n",
       "      <th>pants</th>\n",
       "      <th>watches</th>\n",
       "      <th>shirts</th>\n",
       "      <th>shoes</th>\n",
       "      <th>suits</th>\n",
       "      <th>glasses</th>\n",
       "    </tr>\n",
       "  </thead>\n",
       "  <tbody>\n",
       "    <tr>\n",
       "      <th>store 1</th>\n",
       "      <td>20.0</td>\n",
       "      <td>30.0</td>\n",
       "      <td>35.0</td>\n",
       "      <td>15.0</td>\n",
       "      <td>8.0</td>\n",
       "      <td>45.0</td>\n",
       "      <td>45.0</td>\n",
       "    </tr>\n",
       "    <tr>\n",
       "      <th>store 2</th>\n",
       "      <td>15.0</td>\n",
       "      <td>5.0</td>\n",
       "      <td>10.0</td>\n",
       "      <td>2.0</td>\n",
       "      <td>5.0</td>\n",
       "      <td>7.0</td>\n",
       "      <td>50.0</td>\n",
       "    </tr>\n",
       "    <tr>\n",
       "      <th>store 3</th>\n",
       "      <td>20.0</td>\n",
       "      <td>30.0</td>\n",
       "      <td>35.0</td>\n",
       "      <td>22.5</td>\n",
       "      <td>10.0</td>\n",
       "      <td>7.0</td>\n",
       "      <td>4.0</td>\n",
       "    </tr>\n",
       "  </tbody>\n",
       "</table>\n",
       "</div>"
      ],
      "text/plain": [
       "         bikes  pants  watches  shirts  shoes  suits  glasses\n",
       "store 1   20.0   30.0     35.0    15.0    8.0   45.0     45.0\n",
       "store 2   15.0    5.0     10.0     2.0    5.0    7.0     50.0\n",
       "store 3   20.0   30.0     35.0    22.5   10.0    7.0      4.0"
      ]
     },
     "execution_count": 21,
     "metadata": {},
     "output_type": "execute_result"
    }
   ],
   "source": [
    "# We replace NaN values by using linear interpolation using row values\n",
    "store_items.interpolate(method = 'linear', axis = 1)"
   ]
  },
  {
   "cell_type": "code",
   "execution_count": null,
   "id": "c454bd11",
   "metadata": {},
   "outputs": [],
   "source": []
  }
 ],
 "metadata": {
  "kernelspec": {
   "display_name": "Python 3 (ipykernel)",
   "language": "python",
   "name": "python3"
  },
  "language_info": {
   "codemirror_mode": {
    "name": "ipython",
    "version": 3
   },
   "file_extension": ".py",
   "mimetype": "text/x-python",
   "name": "python",
   "nbconvert_exporter": "python",
   "pygments_lexer": "ipython3",
   "version": "3.10.6"
  }
 },
 "nbformat": 4,
 "nbformat_minor": 5
}
