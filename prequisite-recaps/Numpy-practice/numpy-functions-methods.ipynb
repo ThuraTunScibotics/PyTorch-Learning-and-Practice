{
 "cells": [
  {
   "cell_type": "code",
   "execution_count": 1,
   "id": "fcf89b11",
   "metadata": {},
   "outputs": [],
   "source": [
    "import numpy as np"
   ]
  },
  {
   "cell_type": "code",
   "execution_count": 13,
   "id": "1ec57647",
   "metadata": {},
   "outputs": [
    {
     "name": "stdout",
     "output_type": "stream",
     "text": [
      "Original_x: [1 2 3 4 5]\n",
      "Modified_x: [2 3 4]\n",
      "OriginalY: \n",
      " [[1 2 3]\n",
      " [4 5 6]\n",
      " [7 8 9]]\n",
      "ModifiedY1:\n",
      " [[4 5 6]\n",
      " [7 8 9]]\n",
      "ModifiedY2: \n",
      " [[2]\n",
      " [5]\n",
      " [8]]\n"
     ]
    }
   ],
   "source": [
    "# Delete element - np.delete(ndarray, elements, axis)\n",
    "\n",
    "# We create a rank 1 ndarray \n",
    "x = np.array([1, 2, 3, 4, 5])\n",
    "\n",
    "# We create a rank 2 ndarray\n",
    "Y = np.array([[1,2,3],[4,5,6],[7,8,9]])\n",
    "\n",
    "print(\"Original_x:\", x)\n",
    "\n",
    "x = np.delete(x, [0, 4])\n",
    "\n",
    "print(\"Modified_x:\", x)\n",
    "\n",
    "print(\"OriginalY: \\n\", Y)\n",
    "\n",
    "w = np.delete(Y, 0, axis=0)\n",
    "print(\"ModifiedY1:\\n\", w)\n",
    "\n",
    "v = np.delete(Y, [0, 2], axis=1)\n",
    "print(\"ModifiedY2: \\n\", v)"
   ]
  },
  {
   "cell_type": "code",
   "execution_count": 14,
   "id": "8962285a",
   "metadata": {},
   "outputs": [
    {
     "name": "stdout",
     "output_type": "stream",
     "text": [
      "original x:  [1 2 3 4 5]\n",
      "modified_x1:  [1 2 3 4 5 6]\n",
      "modified_x2:  [1 2 3 4 5 7 8]\n",
      "original Y: \n",
      " [[1 2 3]\n",
      " [4 5 6]]\n",
      "modified_Y1: \n",
      " [[1 2 3]\n",
      " [4 5 6]\n",
      " [7 8 9]]\n",
      "modified_Y2: \n",
      " [[1 2 3 7]\n",
      " [4 5 6 8]]\n"
     ]
    }
   ],
   "source": [
    "# Append - np.append(ndarray, values, axis)\n",
    "\n",
    "# We create a rank 1 ndarray \n",
    "x = np.array([1, 2, 3, 4, 5])\n",
    "\n",
    "# We create a rank 2 ndarray \n",
    "Y = np.array([[1,2,3],[4,5,6]])\n",
    "\n",
    "print(\"original x: \", x)\n",
    "\n",
    "x_modified1 = np.append(x, 6)\n",
    "print(\"modified_x1: \", x_modified1)\n",
    "\n",
    "x_modified2 = np.append(x, [7, 8])\n",
    "print(\"modified_x2: \", x_modified2)\n",
    "\n",
    "print(\"original Y: \\n\", Y)\n",
    "\n",
    "Y_modified1 = np.append(Y, [[7, 8, 9]], axis=0)\n",
    "print(\"modified_Y1: \\n\", Y_modified1)\n",
    "\n",
    "Y_modified2 = np.append(Y, [[7], [8]], axis=1)\n",
    "print(\"modified_Y2: \\n\", Y_modified2)"
   ]
  },
  {
   "cell_type": "code",
   "execution_count": 20,
   "id": "3b99f4bb",
   "metadata": {},
   "outputs": [
    {
     "name": "stdout",
     "output_type": "stream",
     "text": [
      "Original_arr1:  [1 2 5 6 7]\n",
      "Modified arr1:  [1 2 3 4 5 6 7]\n",
      "\n",
      "\n",
      "Original_arr2: \n",
      " [[1 2 3]\n",
      " [7 8 9]]\n",
      "Modified arr2 one: \n",
      " [[1 2 3]\n",
      " [4 5 6]\n",
      " [7 8 9]]\n",
      "\n",
      "\n",
      "Modified arr2 two: \n",
      " [[1 5 2 3]\n",
      " [7 5 8 9]]\n"
     ]
    }
   ],
   "source": [
    "# Insert - np.insert(ndarray, index, elements, axis)\n",
    "\n",
    "# rank1 array\n",
    "arr1 = np.array([1, 2, 5, 6, 7])\n",
    "\n",
    "# rank2 array\n",
    "arr2 = np.array([[1, 2, 3], [7, 8, 9]])\n",
    "\n",
    "print(\"Original_arr1: \", arr1)\n",
    "arr1_modified = np.insert(arr1, 2, [3, 4])\n",
    "print(\"Modified arr1: \", arr1_modified)\n",
    "\n",
    "print(\"\\n\")\n",
    "\n",
    "print(\"Original_arr2: \\n\", arr2)\n",
    "arr2_modified1 = np.insert(arr2, 1, [[4, 5, 6]], axis=0)\n",
    "print(\"Modified arr2 one: \\n\", arr2_modified1)\n",
    "\n",
    "print(\"\\n\")\n",
    "\n",
    "arr2_modified2 = np.insert(arr2, 1, 5, axis=1)\n",
    "print(\"Modified arr2 two: \\n\", arr2_modified2)"
   ]
  },
  {
   "cell_type": "code",
   "execution_count": 24,
   "id": "bbad8aff",
   "metadata": {},
   "outputs": [
    {
     "name": "stdout",
     "output_type": "stream",
     "text": [
      "OriginalX:  [1 2]\n",
      "OriginalY: \n",
      " [[3 4]\n",
      " [5 6]]\n",
      "Vstack: \n",
      " [[1 2]\n",
      " [3 4]\n",
      " [5 6]]\n",
      "\n",
      "\n",
      "Hstack: \n",
      " [[3 4 1]\n",
      " [5 6 2]]\n"
     ]
    }
   ],
   "source": [
    "# numpy.hstack & numpy.vstack\n",
    "\n",
    "x = np.array([1, 2])\n",
    "\n",
    "y = np.array([[3, 4], [5, 6]])\n",
    "\n",
    "print(\"OriginalX: \", x)\n",
    "print(\"OriginalY: \\n\", y)\n",
    "v = np.vstack((x, y))\n",
    "print(\"Vstack: \\n\", v)\n",
    "print(\"\\n\")\n",
    "\n",
    "h = np.hstack((y, x.reshape(2, 1)))\n",
    "print(\"Hstack: \\n\", h)"
   ]
  },
  {
   "cell_type": "code",
   "execution_count": null,
   "id": "03c6443c",
   "metadata": {},
   "outputs": [],
   "source": []
  }
 ],
 "metadata": {
  "kernelspec": {
   "display_name": "Python 3 (ipykernel)",
   "language": "python",
   "name": "python3"
  },
  "language_info": {
   "codemirror_mode": {
    "name": "ipython",
    "version": 3
   },
   "file_extension": ".py",
   "mimetype": "text/x-python",
   "name": "python",
   "nbconvert_exporter": "python",
   "pygments_lexer": "ipython3",
   "version": "3.10.4"
  }
 },
 "nbformat": 4,
 "nbformat_minor": 5
}
